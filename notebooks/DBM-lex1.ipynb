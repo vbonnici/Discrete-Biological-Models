{
 "cells": [
  {
   "cell_type": "markdown",
   "metadata": {},
   "source": [
    "# Extraction of genomic dictionaries\n",
    "\n",
    "Given a string $s$ we would like to understand if it is written in the genomic alphabet.\n",
    "<br>\n",
    "We can use the `set` data structure, that is a modifiable collection of elements with no repetitions.\n",
    "<br>\n",
    "We iterate over the positions of $s$ and extract the characters at the given position"
   ]
  },
  {
   "cell_type": "code",
   "execution_count": 22,
   "metadata": {},
   "outputs": [
    {
     "name": "stdout",
     "output_type": "stream",
     "text": [
      "your alphabet is:  {'t', 'a', 'c', 'g'}\n"
     ]
    }
   ],
   "source": [
    "s = 'agctaggaggatcgccagat'\n",
    "\n",
    "alphabet = set()\n",
    "for i in range( len(s) ):\n",
    "    alphabet.add( s[i] )\n",
    "    \n",
    "print(\"your alphabet is: \", alphabet)"
   ]
  },
  {
   "cell_type": "markdown",
   "metadata": {},
   "source": [
    "<br>\n",
    "Alternatively, since a string is an iterable object, we can iterate over the characters of $s$ with no indication about their position."
   ]
  },
  {
   "cell_type": "code",
   "execution_count": 23,
   "metadata": {},
   "outputs": [
    {
     "name": "stdout",
     "output_type": "stream",
     "text": [
      "your alphabet is:  {'t', 'a', 'c', 'g'}\n"
     ]
    }
   ],
   "source": [
    "alphabet = set()\n",
    "for c in s:\n",
    "    alphabet.add( c )\n",
    "    \n",
    "print(\"your alphabet is: \", alphabet)"
   ]
  },
  {
   "cell_type": "markdown",
   "metadata": {},
   "source": [
    "<br>\n",
    "The `set` data structure does not assure any specific order regarding the elements contained in it. Thus multiple runnings of the same source code can generate the same set but printing the symbols in a different order.\n",
    "<br>\n",
    "The `sorted` function returns a list of sorted elements."
   ]
  },
  {
   "cell_type": "code",
   "execution_count": 24,
   "metadata": {},
   "outputs": [
    {
     "name": "stdout",
     "output_type": "stream",
     "text": [
      "your sorted alphabet is:  ['a', 'c', 'g', 't']\n"
     ]
    }
   ],
   "source": [
    "print(\"your sorted alphabet is: \", sorted(alphabet) )"
   ]
  },
  {
   "cell_type": "markdown",
   "metadata": {},
   "source": [
    "<br>\n",
    "The `sorted` function requires that there must exist an ordering relation between the elements of the input collection.\n",
    "<br>\n",
    "The following instructions generate an error because there is no defined ordering relation between string (or simple characters) and integers."
   ]
  },
  {
   "cell_type": "code",
   "execution_count": 25,
   "metadata": {},
   "outputs": [
    {
     "ename": "TypeError",
     "evalue": "unorderable types: str() < int()",
     "output_type": "error",
     "traceback": [
      "\u001b[0;31m---------------------------------------------------------------------------\u001b[0m",
      "\u001b[0;31mTypeError\u001b[0m                                 Traceback (most recent call last)",
      "\u001b[0;32m<ipython-input-25-d74947341104>\u001b[0m in \u001b[0;36m<module>\u001b[0;34m()\u001b[0m\n\u001b[1;32m      1\u001b[0m \u001b[0mmyset\u001b[0m \u001b[0;34m=\u001b[0m \u001b[0;34m{\u001b[0m\u001b[0;34m'a'\u001b[0m\u001b[0;34m,\u001b[0m \u001b[0;36m0\u001b[0m\u001b[0;34m}\u001b[0m\u001b[0;34m\u001b[0m\u001b[0m\n\u001b[0;32m----> 2\u001b[0;31m \u001b[0mprint\u001b[0m\u001b[0;34m(\u001b[0m\u001b[0msorted\u001b[0m\u001b[0;34m(\u001b[0m\u001b[0mmyset\u001b[0m\u001b[0;34m)\u001b[0m\u001b[0;34m)\u001b[0m\u001b[0;34m\u001b[0m\u001b[0m\n\u001b[0m",
      "\u001b[0;31mTypeError\u001b[0m: unorderable types: str() < int()"
     ]
    }
   ],
   "source": [
    "myset = {'a', 0}\n",
    "print(sorted(myset))"
   ]
  },
  {
   "cell_type": "markdown",
   "metadata": {},
   "source": [
    "<br>\n",
    "The way in which lists and sets (but more in general any built-in data structure) are printed is defined by python.\n",
    "<br>\n",
    "List are delimited by square brackets, while set are delimited by curly brackets, and elements are separated by commas.\n",
    "<br>\n",
    "However, we would like to personalize the print of our alphabet.\n",
    "<br>\n",
    "A first approach could be the creation of an empty string that will be concatenated to the symbols of the alphabet interleaved by a separator character."
   ]
  },
  {
   "cell_type": "code",
   "execution_count": 26,
   "metadata": {},
   "outputs": [
    {
     "name": "stdout",
     "output_type": "stream",
     "text": [
      "your sorted aplhabet is: ,a,c,g,t\n"
     ]
    }
   ],
   "source": [
    "alpha_string = ''\n",
    "for a in sorted(alphabet): # sets are iterable objects,thus they cna be used for cicling\n",
    "    alpha_string = alpha_string + ',' + a\n",
    "print('your sorted aplhabet is: ' + alpha_string)"
   ]
  },
  {
   "cell_type": "markdown",
   "metadata": {},
   "source": [
    "<br>\n",
    "Since the first comma is unwanted, we can extract the created string without the first character."
   ]
  },
  {
   "cell_type": "code",
   "execution_count": 27,
   "metadata": {},
   "outputs": [
    {
     "name": "stdout",
     "output_type": "stream",
     "text": [
      "your sorted aplhabet is: a,c,g,t\n"
     ]
    }
   ],
   "source": [
    "print('your sorted aplhabet is: ' + alpha_string[1:])"
   ]
  },
  {
   "cell_type": "markdown",
   "metadata": {},
   "source": [
    "The same string can be obtained by using a function defined for the string object, called `join`. Given a string and a collection  of elements, the `join` function concatenate the element by putting a copy of the string between them."
   ]
  },
  {
   "cell_type": "code",
   "execution_count": 28,
   "metadata": {},
   "outputs": [
    {
     "name": "stdout",
     "output_type": "stream",
     "text": [
      "t,a,c,g\n"
     ]
    }
   ],
   "source": [
    "print( ','.join(alphabet) )"
   ]
  },
  {
   "cell_type": "markdown",
   "metadata": {},
   "source": [
    "---"
   ]
  },
  {
   "cell_type": "markdown",
   "metadata": {},
   "source": [
    "## List comprehension\n",
    "List comprehension provides a concise way to create lists.\n",
    "<br>\n",
    "The are in the form:"
   ]
  },
  {
   "cell_type": "code",
   "execution_count": null,
   "metadata": {},
   "outputs": [],
   "source": [
    "[ <generated values> <for, one or more> <filters> ]"
   ]
  },
  {
   "cell_type": "markdown",
   "metadata": {},
   "source": [
    "Values are generated in the middle block of the form (the one that contains the for statements), and filters can be applied to the generated values.\n",
    "<br>\n",
    "For example, we want to create a list which contains the numbers from 1 to 10"
   ]
  },
  {
   "cell_type": "code",
   "execution_count": 12,
   "metadata": {},
   "outputs": [
    {
     "data": {
      "text/plain": [
       "[1, 2, 3, 4, 5, 6, 7, 8, 9, 10]"
      ]
     },
     "execution_count": 12,
     "metadata": {},
     "output_type": "execute_result"
    }
   ],
   "source": [
    "[ i for i in range(1,11)]"
   ]
  },
  {
   "cell_type": "markdown",
   "metadata": {},
   "source": [
    "We can also generate the numbers multiples of 2 form 2 to 10:"
   ]
  },
  {
   "cell_type": "code",
   "execution_count": 14,
   "metadata": {},
   "outputs": [
    {
     "data": {
      "text/plain": [
       "[2, 4, 6, 8, 10]"
      ]
     },
     "execution_count": 14,
     "metadata": {},
     "output_type": "execute_result"
    }
   ],
   "source": [
    "[i for i in range(2,11) if (i % 2) == 0]"
   ]
  },
  {
   "cell_type": "markdown",
   "metadata": {},
   "source": [
    "<br>\n",
    "We can use the `join` function as well."
   ]
  },
  {
   "cell_type": "code",
   "execution_count": 16,
   "metadata": {},
   "outputs": [
    {
     "ename": "TypeError",
     "evalue": "sequence item 0: expected str instance, int found",
     "output_type": "error",
     "traceback": [
      "\u001b[0;31m---------------------------------------------------------------------------\u001b[0m",
      "\u001b[0;31mTypeError\u001b[0m                                 Traceback (most recent call last)",
      "\u001b[0;32m<ipython-input-16-475d059feeaf>\u001b[0m in \u001b[0;36m<module>\u001b[0;34m()\u001b[0m\n\u001b[0;32m----> 1\u001b[0;31m \u001b[0;34m','\u001b[0m\u001b[0;34m.\u001b[0m\u001b[0mjoin\u001b[0m\u001b[0;34m(\u001b[0m \u001b[0;34m[\u001b[0m \u001b[0mi\u001b[0m \u001b[0;32mfor\u001b[0m \u001b[0mi\u001b[0m \u001b[0;32min\u001b[0m \u001b[0mrange\u001b[0m\u001b[0;34m(\u001b[0m\u001b[0;36m0\u001b[0m\u001b[0;34m,\u001b[0m\u001b[0;36m11\u001b[0m\u001b[0;34m)\u001b[0m\u001b[0;34m]\u001b[0m \u001b[0;34m)\u001b[0m\u001b[0;34m\u001b[0m\u001b[0m\n\u001b[0m",
      "\u001b[0;31mTypeError\u001b[0m: sequence item 0: expected str instance, int found"
     ]
    }
   ],
   "source": [
    "','.join( [ i for i in range(0,11)] )"
   ]
  },
  {
   "cell_type": "markdown",
   "metadata": {},
   "source": [
    "However, we need to remember that the function concatenates the given string with the elements. If those elements are not strings, then the concatenation operation between a string and any other type of object is not defined in python. Thus we need to explicitly cast the elements to be strings."
   ]
  },
  {
   "cell_type": "code",
   "execution_count": 18,
   "metadata": {},
   "outputs": [
    {
     "data": {
      "text/plain": [
       "'0,1,2,3,4,5,6,7,8,9,10'"
      ]
     },
     "execution_count": 18,
     "metadata": {},
     "output_type": "execute_result"
    }
   ],
   "source": [
    "','.join( [ str(i) for i in range(0,11)] )"
   ]
  },
  {
   "cell_type": "code",
   "execution_count": 29,
   "metadata": {},
   "outputs": [
    {
     "name": "stdout",
     "output_type": "stream",
     "text": [
      "your sorted alphabet is: a,c,g,t\n"
     ]
    }
   ],
   "source": [
    "print(\"your sorted alphabet is: \" + ','.join( [ str(a) for a in sorted(alphabet)] ) )"
   ]
  },
  {
   "cell_type": "markdown",
   "metadata": {},
   "source": [
    "---"
   ]
  },
  {
   "cell_type": "markdown",
   "metadata": {},
   "source": [
    "## Extraction for $k > 1$\n",
    "The extraction of the alphabet of a string correspond to the extraction of the 1-mers contained in the string. The procedure can be generalized to extract 2-mers in the following manner:"
   ]
  },
  {
   "cell_type": "code",
   "execution_count": 31,
   "metadata": {},
   "outputs": [
    {
     "name": "stdout",
     "output_type": "stream",
     "text": [
      "{'at', 'gg', 'ca', 'ga', 'tc', 'cc', 't', 'ta', 'ag', 'cg', 'ct', 'gc'}\n"
     ]
    }
   ],
   "source": [
    "words = set()\n",
    "for i in range(len(s)):\n",
    "    words.add( s[i:i+2] )\n",
    "print( words )"
   ]
  },
  {
   "cell_type": "markdown",
   "metadata": {},
   "source": [
    "However, a problem arise. The extracted set of 2-mers contains a 1-mer, in the specific 't'.\n",
    "<br>\n",
    "The procedure can be represented as a sliding window, having size equal to two, and that starts from the first position fot he string extract the first 2-mer and, subsequently, extracted the other 2-mers by moving forward of one step.\n",
    "<br>\n",
    "An easy to visualize all the extracted windows is to append them to a list and then printing the list:"
   ]
  },
  {
   "cell_type": "code",
   "execution_count": 32,
   "metadata": {},
   "outputs": [
    {
     "name": "stdout",
     "output_type": "stream",
     "text": [
      "agctaggaggatcgccagat\n",
      "['ag', 'gc', 'ct', 'ta', 'ag', 'gg', 'ga', 'ag', 'gg', 'ga', 'at', 'tc', 'cg', 'gc', 'cc', 'ca', 'ag', 'ga', 'at', 't']\n"
     ]
    }
   ],
   "source": [
    "words = list()\n",
    "for i in range(len(s)):\n",
    "    words.append( s[i:i+2] )\n",
    "print(s)\n",
    "print( words )"
   ]
  },
  {
   "cell_type": "markdown",
   "metadata": {},
   "source": [
    "<br>\n",
    "The last windows is positioned on the last character of the string and it extracts the character it self and an inexistent position that go over the string.\n",
    "Thus, the windows must be stopped one position before."
   ]
  },
  {
   "cell_type": "code",
   "execution_count": 33,
   "metadata": {},
   "outputs": [
    {
     "name": "stdout",
     "output_type": "stream",
     "text": [
      "agctaggaggatcgccagat\n",
      "['ag', 'gc', 'ct', 'ta', 'ag', 'gg', 'ga', 'ag', 'gg', 'ga', 'at', 'tc', 'cg', 'gc', 'cc', 'ca', 'ag', 'ga', 'at']\n"
     ]
    }
   ],
   "source": [
    "words = list()\n",
    "for i in range(len(s) - 1):\n",
    "    words.append( s[i:i+2] )\n",
    "print(s)\n",
    "print( words )"
   ]
  },
  {
   "cell_type": "markdown",
   "metadata": {},
   "source": [
    "<br>\n",
    "We recall that, given a string $s$ the number of k-mers (with duplicates) that are contained in the string equals $|s| - k + 1$. \n",
    "<br>\n",
    "Such a value is exactly the last available position form which a window of size $k$ does not exceed the right-most limit of the string."
   ]
  },
  {
   "cell_type": "code",
   "execution_count": 36,
   "metadata": {},
   "outputs": [
    {
     "name": "stdout",
     "output_type": "stream",
     "text": [
      "['ag', 'gc', 'ct', 'ta', 'ag', 'gg', 'ga', 'ag', 'gg', 'ga', 'at', 'tc', 'cg', 'gc', 'cc', 'ca', 'ag', 'ga', 'at']\n"
     ]
    }
   ],
   "source": [
    "k = 2\n",
    "words = list()\n",
    "for i in range(len(s) -k +1): # the number of words of lenght k is |s|-k+1\n",
    "    words.append( s[i:i+k] )\n",
    "print( words )"
   ]
  },
  {
   "cell_type": "code",
   "execution_count": 35,
   "metadata": {},
   "outputs": [
    {
     "name": "stdout",
     "output_type": "stream",
     "text": [
      "{'at', 'gg', 'ca', 'ga', 'tc', 'cc', 'ta', 'ag', 'cg', 'ct', 'gc'}\n"
     ]
    }
   ],
   "source": [
    "print( set(words) )"
   ]
  },
  {
   "cell_type": "markdown",
   "metadata": {},
   "source": [
    "---\n",
    "## Using functions\n",
    "\n",
    "The generalized procedure for the extraction if k-mers from a string can be encapsulated into a function.\n",
    "<br>\n",
    "The function `get_kmers` takes as input the string $s$ and the word length $k$, and it returns the set of k-mers occurring in $s$."
   ]
  },
  {
   "cell_type": "code",
   "execution_count": 3,
   "metadata": {
    "ExecuteTime": {
     "end_time": "2019-03-22T11:13:46.385791Z",
     "start_time": "2019-03-22T11:13:46.377282Z"
    }
   },
   "outputs": [
    {
     "name": "stdout",
     "output_type": "stream",
     "text": [
      "{'gga', 'gag', 'cag', 'tag', 'cgc', 'cta', 'gcc', 'aga', 'tcg', 'agg', 'cca', 'atc', 'gct', 'agc', 'gat'}\n"
     ]
    }
   ],
   "source": [
    "def get_kmers(s, k):\n",
    "    \"\"\" This function return the set of k-mers that occur in a given string \"\"\"\n",
    "    kmers = set()\n",
    "    for i in range(len(s) - k +1):\n",
    "        kmers.add(s[i:i+k])\n",
    "    return kmers\n",
    "\n",
    "kmers = get_kmers(s,3)\n",
    "print(kmers)"
   ]
  },
  {
   "cell_type": "markdown",
   "metadata": {},
   "source": [
    "<br>\n",
    "Functions are documented by writing a multi-line string immediately after the function signature.\n",
    "<br>\n",
    "Then, the documentation string is used by the `help` command to given information tot he user about the specific function."
   ]
  },
  {
   "cell_type": "code",
   "execution_count": 4,
   "metadata": {
    "ExecuteTime": {
     "end_time": "2019-03-22T11:13:35.966839Z",
     "start_time": "2019-03-22T11:13:35.957440Z"
    }
   },
   "outputs": [
    {
     "name": "stdout",
     "output_type": "stream",
     "text": [
      "Help on function get_kmers in module __main__:\n",
      "\n",
      "get_kmers(s, k)\n",
      "    This function return the set of k-mers that occur in a given string\n",
      "\n"
     ]
    }
   ],
   "source": [
    "help(get_kmers)"
   ]
  },
  {
   "cell_type": "markdown",
   "metadata": {},
   "source": [
    "Additional information can also be retrieved via the `?` command."
   ]
  },
  {
   "cell_type": "code",
   "execution_count": 5,
   "metadata": {},
   "outputs": [
    {
     "data": {
      "text/plain": [
       "\u001b[0;31mSignature:\u001b[0m \u001b[0mget_kmers\u001b[0m\u001b[0;34m(\u001b[0m\u001b[0ms\u001b[0m\u001b[0;34m,\u001b[0m \u001b[0mk\u001b[0m\u001b[0;34m)\u001b[0m\u001b[0;34m\u001b[0m\u001b[0m\n",
       "\u001b[0;31mDocstring:\u001b[0m This function return the set of k-mers that occur in a given string \n",
       "\u001b[0;31mFile:\u001b[0m      ~/MBD/<ipython-input-3-4552aee3f636>\n",
       "\u001b[0;31mType:\u001b[0m      function\n"
      ]
     },
     "metadata": {},
     "output_type": "display_data"
    }
   ],
   "source": [
    "?get_kmers"
   ]
  }
 ],
 "metadata": {
  "kernelspec": {
   "display_name": "Python 3",
   "language": "python",
   "name": "python3"
  },
  "language_info": {
   "codemirror_mode": {
    "name": "ipython",
    "version": 3
   },
   "file_extension": ".py",
   "mimetype": "text/x-python",
   "name": "python",
   "nbconvert_exporter": "python",
   "pygments_lexer": "ipython3",
   "version": "3.5.2"
  },
  "varInspector": {
   "cols": {
    "lenName": 16,
    "lenType": 16,
    "lenVar": 40
   },
   "kernels_config": {
    "python": {
     "delete_cmd_postfix": "",
     "delete_cmd_prefix": "del ",
     "library": "var_list.py",
     "varRefreshCmd": "print(var_dic_list())"
    },
    "r": {
     "delete_cmd_postfix": ") ",
     "delete_cmd_prefix": "rm(",
     "library": "var_list.r",
     "varRefreshCmd": "cat(var_dic_list()) "
    }
   },
   "types_to_exclude": [
    "module",
    "function",
    "builtin_function_or_method",
    "instance",
    "_Feature"
   ],
   "window_display": false
  }
 },
 "nbformat": 4,
 "nbformat_minor": 2
}
