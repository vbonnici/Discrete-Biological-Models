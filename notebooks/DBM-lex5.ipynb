{
 "cells": [
  {
   "cell_type": "markdown",
   "metadata": {},
   "source": [
    "---\n",
    "# Suffix arrays\n",
    "The suffix array is a most-used data structure to index texts (strings over any alphabet) such that operations like the search of a substring are made more efficiently witch respect to on-line approaches that do no use indexing structures.\n",
    "<br>\n",
    "Given a string $s$ and the set of all the suffixes of $s$, the suffix array reports the starting position of the i-th suffix in the lexicographical order.\n",
    "<br>\n",
    "<br>\n",
    "We recall that, the lexicographical order between two strings $a$ and $b$ is defined as:\n",
    "- if $|a| = |b|$ then let $i$ being the left-most position where $a$ and $b$ differ, then $a<b  $   if    $  a[i] < b[i]$\n",
    "- else $a<b$  if $a$ is a prefix of $b$\n",
    "\n",
    "In general, this is not a well-order, even if the alphabet is well-ordered, this is the reason why the quasi-lexicographical order is user (it states that $a<b$ if $|a|<|b|$).\n",
    "However, for the purpose regarding the construction of a suffix array we are not interested in quasi-lexicographical order. "
   ]
  },
  {
   "cell_type": "markdown",
   "metadata": {},
   "source": [
    "Given a string $s$, the set if its suffixes can be extracted in the following manner:"
   ]
  },
  {
   "cell_type": "code",
   "execution_count": 1,
   "metadata": {},
   "outputs": [
    {
     "name": "stdout",
     "output_type": "stream",
     "text": [
      "agctagctagctagtttagct\n",
      "gctagctagctagtttagct\n",
      "ctagctagctagtttagct\n",
      "tagctagctagtttagct\n",
      "agctagctagtttagct\n",
      "gctagctagtttagct\n",
      "ctagctagtttagct\n",
      "tagctagtttagct\n",
      "agctagtttagct\n",
      "gctagtttagct\n",
      "ctagtttagct\n",
      "tagtttagct\n",
      "agtttagct\n",
      "gtttagct\n",
      "tttagct\n",
      "ttagct\n",
      "tagct\n",
      "agct\n",
      "gct\n",
      "ct\n",
      "t\n"
     ]
    }
   ],
   "source": [
    "s = 'agctagctagctagtttagct'\n",
    "\n",
    "suffixes = list()\n",
    "\n",
    "for i in range(len(s)):\n",
    "    suffixes.append(s[i:])\n",
    "\n",
    "for suff in suffixes:\n",
    "    print(suff)"
   ]
  },
  {
   "cell_type": "markdown",
   "metadata": {},
   "source": [
    "Then, the suffixes can be lexicographically sorted via the python function `sorted`."
   ]
  },
  {
   "cell_type": "code",
   "execution_count": 2,
   "metadata": {
    "scrolled": true
   },
   "outputs": [
    {
     "name": "stdout",
     "output_type": "stream",
     "text": [
      "agct\n",
      "agctagctagctagtttagct\n",
      "agctagctagtttagct\n",
      "agctagtttagct\n",
      "agtttagct\n",
      "ct\n",
      "ctagctagctagtttagct\n",
      "ctagctagtttagct\n",
      "ctagtttagct\n",
      "gct\n",
      "gctagctagctagtttagct\n",
      "gctagctagtttagct\n",
      "gctagtttagct\n",
      "gtttagct\n",
      "t\n",
      "tagct\n",
      "tagctagctagtttagct\n",
      "tagctagtttagct\n",
      "tagtttagct\n",
      "ttagct\n",
      "tttagct\n"
     ]
    }
   ],
   "source": [
    "for suff in sorted(suffixes):\n",
    "    print(suff)"
   ]
  },
  {
   "cell_type": "markdown",
   "metadata": {},
   "source": [
    "NOTE: the quasi-lexicographical order can be obtained by using the parameter `key` of the function `sorted`. In this manner, the  words are sorted by following the order driven by the function specified in the parameter, and in case of equality the lexicographical order is used."
   ]
  },
  {
   "cell_type": "code",
   "execution_count": 3,
   "metadata": {
    "scrolled": true
   },
   "outputs": [
    {
     "name": "stdout",
     "output_type": "stream",
     "text": [
      "a\n",
      "b\n",
      "ab\n",
      "ac\n",
      "bb\n",
      "abc\n",
      "bba\n",
      "bbc\n"
     ]
    }
   ],
   "source": [
    "qllist = ['a','b','ab','ac','bb','abc', 'bba','bbc']\n",
    "\n",
    "for suff in sorted(qllist, key = len):\n",
    "    print(suff)"
   ]
  },
  {
   "cell_type": "markdown",
   "metadata": {},
   "source": [
    "A trivial and inefficient way to construct the suffix array is to build a list of pairs, where the first element of the pair is one the suffixes and the second element is its starting position. Because starting position are all different, the `sorted` function sorts the pairs by the lexicographical order of the suffixes."
   ]
  },
  {
   "cell_type": "code",
   "execution_count": 4,
   "metadata": {
    "scrolled": true
   },
   "outputs": [
    {
     "name": "stdout",
     "output_type": "stream",
     "text": [
      "('agct', 17)\n",
      "('agctagctagctagtttagct', 0)\n",
      "('agctagctagtttagct', 4)\n",
      "('agctagtttagct', 8)\n",
      "('agtttagct', 12)\n",
      "('ct', 19)\n",
      "('ctagctagctagtttagct', 2)\n",
      "('ctagctagtttagct', 6)\n",
      "('ctagtttagct', 10)\n",
      "('gct', 18)\n",
      "('gctagctagctagtttagct', 1)\n",
      "('gctagctagtttagct', 5)\n",
      "('gctagtttagct', 9)\n",
      "('gtttagct', 13)\n",
      "('t', 20)\n",
      "('tagct', 16)\n",
      "('tagctagctagtttagct', 3)\n",
      "('tagctagtttagct', 7)\n",
      "('tagtttagct', 11)\n",
      "('ttagct', 15)\n",
      "('tttagct', 14)\n"
     ]
    }
   ],
   "source": [
    "s = 'agctagctagctagtttagct'\n",
    "\n",
    "pairs = list()\n",
    "\n",
    "for i in range(len(s)):\n",
    "    pairs.append( (s[i:] ,i) ) \n",
    "\n",
    "for p in sorted(pairs):\n",
    "    print(p)"
   ]
  },
  {
   "cell_type": "markdown",
   "metadata": {},
   "source": [
    "Once the pairs are sorted, the suffix array is built by iterating the sorted pairs and by extracting their starting position (namely the second element of the pair)."
   ]
  },
  {
   "cell_type": "code",
   "execution_count": 5,
   "metadata": {
    "scrolled": true
   },
   "outputs": [
    {
     "name": "stdout",
     "output_type": "stream",
     "text": [
      "suffixes             suffix_array\n",
      "agct                  17\n",
      "agctagctagctagtttagct 0\n",
      "agctagctagtttagct     4\n",
      "agctagtttagct         8\n",
      "agtttagct             12\n",
      "ct                    19\n",
      "ctagctagctagtttagct   2\n",
      "ctagctagtttagct       6\n",
      "ctagtttagct           10\n",
      "gct                   18\n",
      "gctagctagctagtttagct  1\n",
      "gctagctagtttagct      5\n",
      "gctagtttagct          9\n",
      "gtttagct              13\n",
      "t                     20\n",
      "tagct                 16\n",
      "tagctagctagtttagct    3\n",
      "tagctagtttagct        7\n",
      "tagtttagct            11\n",
      "ttagct                15\n",
      "tttagct               14\n"
     ]
    }
   ],
   "source": [
    "print('suffixes'+ ' '*(len(s) - len('suffixes')) + 'suffix_array' )\n",
    "\n",
    "for p in sorted(pairs):\n",
    "    print(p[0] + ' '*(p[1]) ,p[1])  \n",
    "    # a given number of space characters (' '*(p[1])) is added \n",
    "    # such that the elements of the suffix array are print on the same column"
   ]
  },
  {
   "cell_type": "markdown",
   "metadata": {},
   "source": [
    "<br>\n",
    "Actually, we are not interested in storing the ordered set of suffixes, but only in storing the resultant suffix array.\n",
    "Thus, the function `get_suffix_array` receives in input a string $s$ and returns only the array."
   ]
  },
  {
   "cell_type": "code",
   "execution_count": 6,
   "metadata": {},
   "outputs": [],
   "source": [
    "def get_suffix_array(s):\n",
    "    \"\"\"\n",
    "    Construct the suffix array of the string s.\n",
    "    \"\"\"\n",
    "    pairs = list()\n",
    "    for i in range(len(s)):\n",
    "        pairs.append( (s[i:],i) ) \n",
    "    sa = list()\n",
    "    for p in sorted(pairs):\n",
    "        sa.append(p[1])\n",
    "    return sa\n",
    "\n",
    "sa = get_suffix_array(s)"
   ]
  },
  {
   "cell_type": "markdown",
   "metadata": {},
   "source": [
    "<br>\n",
    "The list of sorted suffixes can be obtained by iterating over the suffix array an by extracting on the fly the suffix corresponding to the given  starting position given by array. Let $sa$ being the suffix array of a string $s$, then the $i$-th ordered suffix starts in position $sa[i]$, and the suffix corresponds to $s[i:]$. A padding of extra space characters `' '*(sa[i])` is added to the suffix for a well print format."
   ]
  },
  {
   "cell_type": "code",
   "execution_count": 7,
   "metadata": {},
   "outputs": [
    {
     "name": "stdout",
     "output_type": "stream",
     "text": [
      "agct                  17\n",
      "agctagctagctagtttagct 0\n",
      "agctagctagtttagct     4\n",
      "agctagtttagct         8\n",
      "agtttagct             12\n",
      "ct                    19\n",
      "ctagctagctagtttagct   2\n",
      "ctagctagtttagct       6\n",
      "ctagtttagct           10\n",
      "gct                   18\n",
      "gctagctagctagtttagct  1\n",
      "gctagctagtttagct      5\n",
      "gctagtttagct          9\n",
      "gtttagct              13\n",
      "t                     20\n",
      "tagct                 16\n",
      "tagctagctagtttagct    3\n",
      "tagctagtttagct        7\n",
      "tagtttagct            11\n",
      "ttagct                15\n",
      "tttagct               14\n"
     ]
    }
   ],
   "source": [
    "def print_suffix_array(s, sa):\n",
    "    for i in range(len(sa)):\n",
    "        print(s[sa[i]:] + ' '*(sa[i]), sa[i])\n",
    "        \n",
    "print_suffix_array(s,sa)"
   ]
  },
  {
   "cell_type": "markdown",
   "metadata": {},
   "source": [
    "---\n",
    "## LCP intervals and enhanced suffix arrays (ESA)\n",
    "Indexing structures based on suffix arrays are enhanced by means of a further array reporting the length of the longest common prefix (LCP) between two consecutive suffixes in the lexicographical order.The LCP value of the first suffix is set to be 0."
   ]
  },
  {
   "cell_type": "code",
   "execution_count": 8,
   "metadata": {},
   "outputs": [],
   "source": [
    "def longest_prefix_length(s, i, j):\n",
    "    \"\"\"\n",
    "        Calculate the length of the longest common prefix between two suffixes, \n",
    "        the one in position i and the other in position j, of s\n",
    "    \"\"\"\n",
    "    l = 0\n",
    "    while (i+l < len(s)) and (j+l < len(s)):\n",
    "        if s[i+l] != s[j+l]:\n",
    "            break\n",
    "        l += 1\n",
    "    return l\n",
    "\n",
    "\n",
    "def get_lcp(s,sa):\n",
    "    \"\"\"\n",
    "        Construct the LCP array associated tot he suffix array (sa) of the string s.\n",
    "        The LCP value of the first suffix is set to be 0.\n",
    "    \"\"\"\n",
    "    lcp = list()\n",
    "    lcp.append(0)\n",
    "    for i in range(1,len(sa)):\n",
    "        lcp.append( longest_prefix_length(s, sa[i], sa[i-1]) )\n",
    "    return lcp\n",
    "\n",
    "\n",
    "lcp = get_lcp(s,sa)"
   ]
  },
  {
   "cell_type": "markdown",
   "metadata": {},
   "source": [
    "<br>\n",
    "The print of the ordered suffixes together with the suffix array is extended to report the lcp values."
   ]
  },
  {
   "cell_type": "code",
   "execution_count": 9,
   "metadata": {},
   "outputs": [
    {
     "name": "stdout",
     "output_type": "stream",
     "text": [
      "index\tsuffixes             \tSA\tLCP\n",
      "---------------------------------------------\n",
      "0\tagct                 \t17\t0\n",
      "1\tagctagctagctagtttagct\t0\t4\n",
      "2\tagctagctagtttagct    \t4\t10\n",
      "3\tagctagtttagct        \t8\t6\n",
      "4\tagtttagct            \t12\t2\n",
      "5\tct                   \t19\t0\n",
      "6\tctagctagctagtttagct  \t2\t2\n",
      "7\tctagctagtttagct      \t6\t8\n",
      "8\tctagtttagct          \t10\t4\n",
      "9\tgct                  \t18\t0\n",
      "10\tgctagctagctagtttagct \t1\t3\n",
      "11\tgctagctagtttagct     \t5\t9\n",
      "12\tgctagtttagct         \t9\t5\n",
      "13\tgtttagct             \t13\t1\n",
      "14\tt                    \t20\t0\n",
      "15\ttagct                \t16\t1\n",
      "16\ttagctagctagtttagct   \t3\t5\n",
      "17\ttagctagtttagct       \t7\t7\n",
      "18\ttagtttagct           \t11\t3\n",
      "19\tttagct               \t15\t1\n",
      "20\ttttagct              \t14\t2\n"
     ]
    }
   ],
   "source": [
    "def print_sa_lcp(s,sa,lcp):\n",
    "    print('index', 'suffixes' + ' '*(len(s)-len('suffixes')), 'SA', 'LCP', sep='\\t')\n",
    "    print('-'*45)\n",
    "    for i in range(len(sa)):\n",
    "        print(i, s[sa[i]:] + ' '*(sa[i]), sa[i], lcp[i], sep='\\t')\n",
    "\n",
    "print_sa_lcp(s,sa,lcp)"
   ]
  },
  {
   "cell_type": "markdown",
   "metadata": {},
   "source": [
    "<br>\n",
    "<br>\n",
    "An LCP $k$-interval is defined as a contiguous region of the LCP array, defined by two indexes $i$ and $j$ (with $1 \\leq i \\leq j \\leq |s|$) \n",
    "such that for $ i < x \\leq j$, $LCP[x] \\geq k$.\n",
    "Moreover, $LCP[i-1] < k$ and $LCP[j+1] < k$.\n",
    "<br>\n",
    "LCP intervals are useful in enumerating the  k-mers occurring in a given string. In fact, for $k=1$ all and only the suffixes starting with the symbol `a` are contiguous listed in he first positions of the suffix array. Moreover, such suffixes have a lcp value grater than 1, except for the first one. starting for the second suffix, the first position where the lcp value is less than 1 is the one identified by the suffix `ct`. More in general an lcp value of 0 occurs each time the corresponding suffix has the first character different from the previous suffix.\n",
    "<br>\n",
    "In the previous example, the four nucleobases $A,C,G,T$ are recognized by 4 lcp 1-intervals that are $[0,4]$,$[5,8]$,$[9,13]$ and $[14,20]$. Within each interval, the lcp value i greater or equal to 1, except for the first element that has an lcp value of 0 and that identifies the end of the previous interval and the start of the current one."
   ]
  },
  {
   "cell_type": "markdown",
   "metadata": {},
   "source": [
    "An algorithm to retrieve lcp k-intervals uses two indexes, $i$ and $j$, to identified the bounds of the current interval. The $i$ index is the start, and the $j$ index is the end  (not included).\n",
    "<br>\n",
    "The algorithm start with $i=0$ and $j=1$, increases the value of $j$ until $lcp[j] \\geq k$ (and until $j$ is a valid index, namely it is less than the length of the array). When $lcp[j] < k$, the algorithm stops and return the interval $[i,j]$. Subsequently, $i$ is set to be the current value of $j$, $j$ is increased by 1 and the search in repeated. The algorithm continues until $i$ is less then the length of the array. "
   ]
  },
  {
   "cell_type": "code",
   "execution_count": 10,
   "metadata": {},
   "outputs": [
    {
     "name": "stdout",
     "output_type": "stream",
     "text": [
      "----------------------------------------\n",
      "interval\n",
      "0\tagct                 \t17\t0\n",
      "1\tagctagctagctagtttagct\t0\t4\n",
      "2\tagctagctagtttagct    \t4\t10\n",
      "3\tagctagtttagct        \t8\t6\n",
      "4\tagtttagct            \t12\t2\n",
      "k-mer: a\n",
      "----------------------------------------\n",
      "interval\n",
      "5\tct                   \t19\t0\n",
      "6\tctagctagctagtttagct  \t2\t2\n",
      "7\tctagctagtttagct      \t6\t8\n",
      "8\tctagtttagct          \t10\t4\n",
      "k-mer: c\n",
      "----------------------------------------\n",
      "interval\n",
      "9\tgct                  \t18\t0\n",
      "10\tgctagctagctagtttagct \t1\t3\n",
      "11\tgctagctagtttagct     \t5\t9\n",
      "12\tgctagtttagct         \t9\t5\n",
      "13\tgtttagct             \t13\t1\n",
      "k-mer: g\n",
      "----------------------------------------\n",
      "interval\n",
      "14\tt                    \t20\t0\n",
      "15\ttagct                \t16\t1\n",
      "16\ttagctagctagtttagct   \t3\t5\n",
      "17\ttagctagtttagct       \t7\t7\n",
      "18\ttagtttagct           \t11\t3\n",
      "19\tttagct               \t15\t1\n",
      "20\ttttagct              \t14\t2\n",
      "k-mer: t\n"
     ]
    }
   ],
   "source": [
    "def print_sa_lcp_region(s,sa,lcp, i,j):\n",
    "    print('-'*40)\n",
    "    print('interval')\n",
    "    for x in range(i,j):\n",
    "        print(x,s[sa[x]:] +' '*(sa[x]), sa[x], lcp[x], sep='\\t')\n",
    "    #print('.'*40)\n",
    "\n",
    "\n",
    "k = 1\n",
    "i = 0\n",
    "while i < len(s):\n",
    "    j = i + 1\n",
    "    while (j < len(s)) and (lcp[j] >= k):\n",
    "        j += 1\n",
    "        \n",
    "    print_sa_lcp_region(s,sa,lcp, i,j)\n",
    "    print('k-mer:', s[ sa[i]:sa[i]+k] )\n",
    "    \n",
    "    i = j"
   ]
  },
  {
   "cell_type": "markdown",
   "metadata": {},
   "source": [
    "<br>\n",
    "The above algorithm results not suitable for value of $k$ grater than 1, in fact when it is applied to extract 2-mers unwanted intervals, thus unwanted words, are retrieved.\n",
    "In particular, the 1-mer $t$ is produced, which is due to the fact that the algorithm extracts prefixes that are shorter than the given value of $k$.\n"
   ]
  },
  {
   "cell_type": "code",
   "execution_count": 11,
   "metadata": {},
   "outputs": [
    {
     "name": "stdout",
     "output_type": "stream",
     "text": [
      "----------------------------------------\n",
      "interval\n",
      "0\tagct                 \t17\t0\n",
      "1\tagctagctagctagtttagct\t0\t4\n",
      "2\tagctagctagtttagct    \t4\t10\n",
      "3\tagctagtttagct        \t8\t6\n",
      "4\tagtttagct            \t12\t2\n",
      "k-mer: ag\n",
      "----------------------------------------\n",
      "interval\n",
      "5\tct                   \t19\t0\n",
      "6\tctagctagctagtttagct  \t2\t2\n",
      "7\tctagctagtttagct      \t6\t8\n",
      "8\tctagtttagct          \t10\t4\n",
      "k-mer: ct\n",
      "----------------------------------------\n",
      "interval\n",
      "9\tgct                  \t18\t0\n",
      "10\tgctagctagctagtttagct \t1\t3\n",
      "11\tgctagctagtttagct     \t5\t9\n",
      "12\tgctagtttagct         \t9\t5\n",
      "k-mer: gc\n",
      "----------------------------------------\n",
      "interval\n",
      "13\tgtttagct             \t13\t1\n",
      "k-mer: gt\n",
      "----------------------------------------\n",
      "interval\n",
      "14\tt                    \t20\t0\n",
      "k-mer: t\n",
      "----------------------------------------\n",
      "interval\n",
      "15\ttagct                \t16\t1\n",
      "16\ttagctagctagtttagct   \t3\t5\n",
      "17\ttagctagtttagct       \t7\t7\n",
      "18\ttagtttagct           \t11\t3\n",
      "k-mer: ta\n",
      "----------------------------------------\n",
      "interval\n",
      "19\tttagct               \t15\t1\n",
      "20\ttttagct              \t14\t2\n",
      "k-mer: tt\n"
     ]
    }
   ],
   "source": [
    "k = 2\n",
    "i = 0\n",
    "while i < len(s):\n",
    "    j = i + 1\n",
    "    while (j < len(s)) and (lcp[j] >= k):\n",
    "        j += 1\n",
    "        \n",
    "    print_sa_lcp_region(s,sa,lcp, i,j)\n",
    "    print('k-mer:', s[ sa[i]:sa[i]+k] )\n",
    "    \n",
    "    i = j"
   ]
  },
  {
   "cell_type": "markdown",
   "metadata": {},
   "source": [
    "<br>\n",
    "In order to avoid the extraction of such extra intervals, the algorithm has to take into account the the right .intervals are not contiguous but they are interleaved with intervals tat must be discarded. The condition for the discarding of such intervals is given by the check of their proximity with the end of the string. \n"
   ]
  },
  {
   "cell_type": "code",
   "execution_count": 12,
   "metadata": {},
   "outputs": [
    {
     "name": "stdout",
     "output_type": "stream",
     "text": [
      "----------------------------------------\n",
      "interval\n",
      "0\tagct                 \t17\t0\n",
      "1\tagctagctagctagtttagct\t0\t4\n",
      "2\tagctagctagtttagct    \t4\t10\n",
      "3\tagctagtttagct        \t8\t6\n",
      "4\tagtttagct            \t12\t2\n",
      "k-mer: ag\n",
      "----------------------------------------\n",
      "interval\n",
      "6\tctagctagctagtttagct  \t2\t2\n",
      "7\tctagctagtttagct      \t6\t8\n",
      "8\tctagtttagct          \t10\t4\n",
      "k-mer: ct\n",
      "----------------------------------------\n",
      "interval\n",
      "9\tgct                  \t18\t0\n",
      "10\tgctagctagctagtttagct \t1\t3\n",
      "11\tgctagctagtttagct     \t5\t9\n",
      "12\tgctagtttagct         \t9\t5\n",
      "k-mer: gc\n",
      "----------------------------------------\n",
      "interval\n",
      "13\tgtttagct             \t13\t1\n",
      "k-mer: gt\n",
      "----------------------------------------\n",
      "interval\n",
      "15\ttagct                \t16\t1\n",
      "16\ttagctagctagtttagct   \t3\t5\n",
      "17\ttagctagtttagct       \t7\t7\n",
      "18\ttagtttagct           \t11\t3\n",
      "k-mer: ta\n",
      "----------------------------------------\n",
      "interval\n",
      "19\tttagct               \t15\t1\n",
      "20\ttttagct              \t14\t2\n",
      "k-mer: tt\n"
     ]
    }
   ],
   "source": [
    "k = 2\n",
    "i = 0\n",
    "while i < len(s):\n",
    "    while (i < len(s)) and  (sa[i] > len(s) - k - 1): # check\n",
    "        i += 1\n",
    "    if i == len(s): # there are no more valid intervals\n",
    "        break\n",
    "        \n",
    "    j = i + 1\n",
    "    while (j < len(s)) and (lcp[j] >= k):\n",
    "        j += 1\n",
    "        \n",
    "    print_sa_lcp_region(s,sa,lcp, i,j)\n",
    "    print('k-mer:', s[ sa[i]:sa[i]+k] )\n",
    "    \n",
    "    i = j"
   ]
  },
  {
   "cell_type": "markdown",
   "metadata": {},
   "source": [
    "---\n",
    "## Some notes on the enhanced suffix array\n",
    "1. Due to the lexicographically construction of the suffix array, the enumeration of k-mer via lcp k-intervals implicitly follows the lexicographical order on enumerating the k-mers.\n",
    "2. The enhanced suffix array implicitly contains the complete set $D(s)$, which includes every $k$-mer occurring in $s$ for $1 \\leq k \\leq |s|$."
   ]
  },
  {
   "cell_type": "markdown",
   "metadata": {},
   "source": [
    "---\n",
    "## Informational genomics via ESA (and NELSA)\n",
    "Usually, sequenced genomes present an extra symbol, coded with an `N`, which represent an ambiguity in determining a specific nucleotided at a given position of the genome.\n",
    "The execution of the previous approach on such sequences produces k-mers that may contain `N` symbols.\n",
    "However, is it desirable to skip such k-mers from the enumeration.\n",
    "<br>\n",
    "The issue is solved with an approach similar to the one used to discard k-mers shorter than the desired word length $k$.\n",
    "A modified algorithm discards suffixes which have a symbol `N` within the initial $k$ characters.\n",
    "<br>\n",
    "In order to increase the efficiency in time complexity, a further array is computed. The array, called `NS`, takes trace of the distance from the starting position of the suffix to the closest `N` character on the right of such position."
   ]
  },
  {
   "cell_type": "code",
   "execution_count": 13,
   "metadata": {},
   "outputs": [
    {
     "name": "stdout",
     "output_type": "stream",
     "text": [
      "index\tsuffixes                \tSA\tLCP\tNS\n",
      "------------------------------------------------------------\n",
      "0\tN                       \t23\t0\t0\n",
      "1\tNctagctagNtttagctN      \t6\t1\t0\n",
      "2\tNtttagctN               \t15\t1\t0\n",
      "3\tagNctagctagNtttagctN    \t4\t0\t2\n",
      "4\tagNtttagctN             \t13\t3\t2\n",
      "5\tagctN                   \t19\t2\t4\n",
      "6\tagctagNctagctagNtttagctN\t0\t4\t6\n",
      "7\tagctagNtttagctN         \t9\t7\t6\n",
      "8\tctN                     \t21\t0\t2\n",
      "9\tctagNctagctagNtttagctN  \t2\t2\t4\n",
      "10\tctagNtttagctN           \t11\t5\t4\n",
      "11\tctagctagNtttagctN       \t7\t4\t8\n",
      "12\tgNctagctagNtttagctN     \t5\t0\t1\n",
      "13\tgNtttagctN              \t14\t2\t1\n",
      "14\tgctN                    \t20\t1\t3\n",
      "15\tgctagNctagctagNtttagctN \t1\t3\t5\n",
      "16\tgctagNtttagctN          \t10\t6\t5\n",
      "17\ttN                      \t22\t0\t1\n",
      "18\ttagNctagctagNtttagctN   \t3\t1\t3\n",
      "19\ttagNtttagctN            \t12\t4\t3\n",
      "20\ttagctN                  \t18\t3\t5\n",
      "21\ttagctagNtttagctN        \t8\t5\t7\n",
      "22\tttagctN                 \t17\t1\t6\n",
      "23\ttttagctN                \t16\t2\t7\n",
      "------------------------------------------------------------\n"
     ]
    }
   ],
   "source": [
    "def distance_to_n(s,i):\n",
    "    j = i\n",
    "    while (j<len(s)) and (s[j] != 'N'):\n",
    "        j += 1\n",
    "    return j - i\n",
    "\n",
    "def get_ns_array(s,sa):\n",
    "    return [  distance_to_n(s,sa[i]) for i in range(len(s)) ]\n",
    "    \n",
    "\n",
    "def print_sa_lcp_ns(s,sa,lcp, ns):\n",
    "    print('index', 'suffixes' + ' '*(len(s)-len('suffixes')), 'SA', 'LCP', 'NS', sep='\\t')\n",
    "    print('-'*60)\n",
    "    for i in range(len(sa)):\n",
    "        print(i, s[sa[i]:] + ' '*(sa[i]), sa[i], lcp[i], ns[i], sep='\\t')\n",
    "\n",
    "        \n",
    "        \n",
    "s = 'agctagNctagctagNtttagctN'\n",
    "\n",
    "\n",
    "sa = get_suffix_array(s)\n",
    "lcp = get_lcp(s,sa)\n",
    "ns = get_ns_array(s,sa)\n",
    "\n",
    "\n",
    "print_sa_lcp_ns(s,sa,lcp,ns)\n",
    "print('-'*60)"
   ]
  },
  {
   "cell_type": "markdown",
   "metadata": {},
   "source": [
    "Two further conditions are included on enumerating k-mers.\n",
    "<br>\n",
    "The first one is due to a modification of the definition of the lcp k-interval such that it is extended by the condition $LCP[x] \\geq k$. This ensures that interval do not contains k-mers having a `N` character in the initial $k$ positions.\n",
    "<br>\n",
    "The second condition is applied to discard unwanted intervals that interleave valid ones."
   ]
  },
  {
   "cell_type": "code",
   "execution_count": 14,
   "metadata": {},
   "outputs": [
    {
     "name": "stdout",
     "output_type": "stream",
     "text": [
      "------------------------------------------------------------\n",
      "interval\n",
      "5\tagctN                   \t19\t2\t4\n",
      "6\tagctagNctagctagNtttagctN\t0\t4\t6\n",
      "7\tagctagNtttagctN         \t9\t7\t6\n",
      "k-mer: agc\n",
      "------------------------------------------------------------\n",
      "interval\n",
      "9\tctagNctagctagNtttagctN  \t2\t2\t4\n",
      "10\tctagNtttagctN           \t11\t5\t4\n",
      "11\tctagctagNtttagctN       \t7\t4\t8\n",
      "k-mer: cta\n",
      "------------------------------------------------------------\n",
      "interval\n",
      "14\tgctN                    \t20\t1\t3\n",
      "15\tgctagNctagctagNtttagctN \t1\t3\t5\n",
      "16\tgctagNtttagctN          \t10\t6\t5\n",
      "k-mer: gct\n",
      "------------------------------------------------------------\n",
      "interval\n",
      "18\ttagNctagctagNtttagctN   \t3\t1\t3\n",
      "19\ttagNtttagctN            \t12\t4\t3\n",
      "20\ttagctN                  \t18\t3\t5\n",
      "21\ttagctagNtttagctN        \t8\t5\t7\n",
      "k-mer: tag\n",
      "------------------------------------------------------------\n",
      "interval\n",
      "22\tttagctN                 \t17\t1\t6\n",
      "k-mer: tta\n",
      "------------------------------------------------------------\n",
      "interval\n",
      "23\ttttagctN                \t16\t2\t7\n",
      "k-mer: ttt\n"
     ]
    }
   ],
   "source": [
    "def print_sa_lcp_ns_region(s,sa,lcp,ns, i,j):\n",
    "    print('-'*60)\n",
    "    print('interval')\n",
    "    for x in range(i,j):\n",
    "        print(x,s[sa[x]:] +' '*(sa[x]), sa[x], lcp[x], ns[x], sep='\\t')\n",
    "   \n",
    "\n",
    "k = 3\n",
    "i = 0\n",
    "while i < len(s):\n",
    "    while  (i < len(s)) and  ( (sa[i] > len(s) - k - 1)  or (ns[i] < k) ): # second further condition\n",
    "        i += 1\n",
    "    if i == len(s):\n",
    "        break\n",
    "        \n",
    "    j = i+1\n",
    "    while (j < len(s)) and (lcp[j] >= k) and (ns[i] >= k): # first further condition\n",
    "        j += 1\n",
    "        \n",
    "    print_sa_lcp_ns_region(s,sa,lcp,ns, i,j)\n",
    "    print('k-mer:', s[ sa[i]:sa[i]+k] )\n",
    "    i = j"
   ]
  },
  {
   "cell_type": "markdown",
   "metadata": {},
   "source": [
    "<br>\n",
    "The following code povides a faster implementation of the construction fo the N array. It costructs and inverse suffix array, such that for each poistion $i$in the string, the corresponding position of the $i$-th suffix in the suffix array is obtanined in constant time. Then, starting form the end of the string, it takes traces of the last poisiotn, ont he right, where the symbol N has been found, thus it assigns the distance between the current position and the last right occurrence of the N."
   ]
  },
  {
   "cell_type": "code",
   "execution_count": 16,
   "metadata": {},
   "outputs": [
    {
     "name": "stdout",
     "output_type": "stream",
     "text": [
      "24 [0, 0, 0, 2, 2, 4, 6, 6, 2, 4, 4, 8, 1, 1, 3, 5, 5, 1, 3, 3, 5, 7, 6, 7]\n",
      "24 [0, 0, 0, 2, 2, 4, 6, 6, 2, 4, 4, 8, 1, 1, 3, 5, 5, 1, 3, 3, 5, 7, 6, 7]\n"
     ]
    }
   ],
   "source": [
    "def fast_get_ns_array(s, sa):\n",
    "    inv_sa = [0 for _ in range(len(sa))]\n",
    "    for i in range(len(sa)):\n",
    "        inv_sa[ sa[i] ] = i\n",
    "    \n",
    "    ns = [0 for _ in range(len(sa))]\n",
    "    lastn = len(s)\n",
    "    for i in range(len(s)-1,-1,-1):\n",
    "        if s[i] == 'N':\n",
    "            lastn = i\n",
    "        ns[ inv_sa[i] ] = lastn - i\n",
    "    return ns\n",
    "                               \n",
    "                               \n",
    "fns = fast_get_ns_array(s, sa)\n",
    "print(len(fns), fns)\n",
    "\n",
    "ns = get_ns_array(s, sa)\n",
    "print(len(ns), ns)\n",
    "\n",
    "assert ns == fns"
   ]
  },
  {
   "cell_type": "markdown",
   "metadata": {},
   "source": [
    "---\n",
    "## Implementing an iterator\n",
    "In python, iterators can be implemented in several ways. We focus on defining iterator b objects.\n",
    "Iterators are special types of objects which implement the `__iter__` and `__next__` methods. Iterators maintain an internal state which refers to the current iterated element. \n",
    "<br>\n",
    "The following examples illustrates how to build an iterator that iterates over the integer numbers starting from 1. The internal state is represented by the internal variable `__i`. Each time the method `next` is called on the iterator, the internal state is update with a forward operation and the element resulting form such operation is returned. \n"
   ]
  },
  {
   "cell_type": "code",
   "execution_count": 17,
   "metadata": {},
   "outputs": [
    {
     "name": "stdout",
     "output_type": "stream",
     "text": [
      "1\n",
      "2\n"
     ]
    }
   ],
   "source": [
    "class my_iterator:\n",
    "    __i = 0\n",
    "    \n",
    "    def __init__(self):\n",
    "        self.__i = 0\n",
    "        \n",
    "    def __next__(self):\n",
    "        self.__i += 1\n",
    "        return self.__i\n",
    "    \n",
    "it = my_iterator()\n",
    "print(next(it))\n",
    "print(next(it))"
   ]
  },
  {
   "cell_type": "markdown",
   "metadata": {},
   "source": [
    "One important thing to notice and to remember is that the method `next` is called in order to retrieve the elements of the iteration. This means that, after the creation of the iterator, the first element is retrieved only after a call of the `next` method. For this reason, in order to start the iteration form the value 1, the initial state is set to 0. <vr>\n",
    "<br>\n",
    "    \n",
    "The given implementation is still not suitable to be used in `for` statements because the `__iter__` method has to be defined. The simplest way to defined the method is shown below."
   ]
  },
  {
   "cell_type": "code",
   "execution_count": 18,
   "metadata": {},
   "outputs": [
    {
     "name": "stdout",
     "output_type": "stream",
     "text": [
      "1\n",
      "2\n",
      "3\n",
      "4\n",
      "5\n",
      "6\n",
      "7\n",
      "8\n",
      "9\n",
      "10\n",
      "11\n"
     ]
    }
   ],
   "source": [
    "class my_iterator:\n",
    "    __i = 0\n",
    "    \n",
    "    def __init__(self):\n",
    "        self.__i = 0\n",
    "        \n",
    "    def __iter__(self):\n",
    "        return self\n",
    "        \n",
    "    def __next__(self):\n",
    "        self.__i += 1\n",
    "        return self.__i\n",
    "\n",
    "it = my_iterator()\n",
    "for n in it:\n",
    "    print(n)\n",
    "    if n > 10:\n",
    "        break"
   ]
  },
  {
   "cell_type": "markdown",
   "metadata": {},
   "source": [
    "The object provides an iteration over integer numbers without any limit. In fact, it can iterate up to infinite. The method `__next__` has to raise a `StopIteration` exception in order to stop the interaction at a specific state. For example, an iterator to enumerate integers from 1 to 10 is the following one."
   ]
  },
  {
   "cell_type": "code",
   "execution_count": 19,
   "metadata": {},
   "outputs": [
    {
     "name": "stdout",
     "output_type": "stream",
     "text": [
      "1\n",
      "2\n",
      "3\n",
      "4\n",
      "5\n",
      "6\n",
      "7\n",
      "8\n",
      "9\n",
      "10\n"
     ]
    }
   ],
   "source": [
    "class my_iterator:\n",
    "    __i = 0\n",
    "    __limit = 10\n",
    "    \n",
    "    def __init__(self):\n",
    "        self.__i = 0\n",
    "        \n",
    "    def __iter__(self):\n",
    "        return self\n",
    "        \n",
    "    def __next__(self):\n",
    "        self.__i += 1\n",
    "        if self.__i <= self.__limit:\n",
    "            return self.__i\n",
    "        else:\n",
    "            raise StopIteration\n",
    "\n",
    "it = my_iterator()\n",
    "for n in it:\n",
    "    print(n)"
   ]
  },
  {
   "cell_type": "markdown",
   "metadata": {},
   "source": [
    "The raise of a `StopIteraction` exception is a special event that, in case of iterator objects, is not threaded like a common exception raise. In fact, it is not cached by the try-except statement."
   ]
  },
  {
   "cell_type": "code",
   "execution_count": 20,
   "metadata": {},
   "outputs": [
    {
     "name": "stdout",
     "output_type": "stream",
     "text": [
      "1\n",
      "2\n",
      "3\n",
      "4\n",
      "5\n",
      "6\n",
      "7\n",
      "8\n",
      "9\n",
      "10\n"
     ]
    }
   ],
   "source": [
    "it = my_iterator()\n",
    "try:\n",
    "    for n in it:\n",
    "        print(n)\n",
    "except:\n",
    "    print('an exception has been arised')"
   ]
  },
  {
   "cell_type": "code",
   "execution_count": 21,
   "metadata": {},
   "outputs": [
    {
     "name": "stdout",
     "output_type": "stream",
     "text": [
      "an exception has been arised\n"
     ]
    }
   ],
   "source": [
    "def m_function():\n",
    "    raise StopIteration\n",
    "\n",
    "try:\n",
    "    my_function()\n",
    "except:\n",
    "    print('an exception has been arised')"
   ]
  },
  {
   "cell_type": "markdown",
   "metadata": {},
   "source": [
    "---\n",
    "## Implementing a k-mer iterator\n",
    "According to the method shown before for the enumeration of k-mers based on enhanced suffix arrays, a k-mer iterator has four internal fixed parameters that are the indexed string, the suffix array, the LCP array and the word length $k$. The variables of the internal state are the start and the end of the current LPC k-interval, identified by the private variables $i$ and $j$ respectively. Each time the `next` method is called on the iterator, the search for the successive interval starts. If two valid limits for the next interval are found, the iterator pauses the iteration and return the k-mer corresponding to the found interval. If no more intervals are found, the iterator rises a `StopIteration` exception. \n",
    "<br>\n",
    "In addition, the iterator informs about the multiplicity of the current k-mer and the starting position of its occurrences along the string. The information is provided b the two methods `multiplicity` and `positions`, respectively.\n",
    "We recall, that the multiplicity is given by the size of the k-interval on the LCP array, and the set of occurring positions is the corresponding slice on the suffix array. Since the suffix array only ensures the lexicographical order of the suffix, the positions are not sorted. "
   ]
  },
  {
   "cell_type": "code",
   "execution_count": 22,
   "metadata": {},
   "outputs": [
    {
     "name": "stdout",
     "output_type": "stream",
     "text": [
      "building suffix array...\n",
      "done\n",
      "building lcp array...\n",
      "done\n",
      "agc 4 [17, 0, 4, 8]\n",
      "agt 1 [12]\n",
      "cta 3 [2, 6, 10]\n",
      "gct 3 [1, 5, 9]\n",
      "gtt 1 [13]\n",
      "tag 1 [16]\n",
      "tag 3 [3, 7, 11]\n",
      "tta 1 [15]\n",
      "ttt 1 [14]\n"
     ]
    }
   ],
   "source": [
    "class ESAIterator:\n",
    "    __s = None\n",
    "    __k = 0\n",
    "    __sa = None\n",
    "    __lcp = None\n",
    "    __i = 0\n",
    "    __j = 0\n",
    "    \n",
    "    def __init__(self, s, k, sa = None, lcp = None):\n",
    "        self.__s = s\n",
    "        self.__k = k\n",
    "        \n",
    "        if sa == None:\n",
    "            self.build_sa()\n",
    "        else:\n",
    "            self.__sa = sa\n",
    "            \n",
    "        if lcp == None:\n",
    "            self.build_lcp()\n",
    "        else:\n",
    "            self.__lcp = lcp\n",
    "\n",
    "    def build_sa(self):\n",
    "        print(\"building suffix array...\")\n",
    "        suffixes = list()\n",
    "        for i in range(len(self.__s)):\n",
    "            suffixes.append( (self.__s[i:] + self.__s[:i] ,i) ) \n",
    "        self.__sa = list()\n",
    "        for suff in sorted(suffixes):\n",
    "            self.__sa.append(suff[1])\n",
    "        print('done')\n",
    "        \n",
    "        \n",
    "    def longest_prefix_length(s, i, j):\n",
    "        l = 0\n",
    "        while (i+l < len(s)) and (j+l < len(s)):\n",
    "            if s[i+l] != s[j+l]:\n",
    "                break\n",
    "            l += 1\n",
    "        return l\n",
    "\n",
    "    def build_lcp(self):\n",
    "        print('building lcp array...')\n",
    "        self.__lcp = list()\n",
    "        self.__lcp.append(0)\n",
    "        for i in range(1,len(self.__sa)):\n",
    "            self.__lcp.append( ESAIterator.longest_prefix_length(self.__s, self.__sa[i], self.__sa[i-1]) )\n",
    "        print('done')\n",
    "    \n",
    "    def get_sa(self):\n",
    "        return self.__sa\n",
    "    \n",
    "    def get_lcp(self):\n",
    "        return self.__lcp\n",
    "        \n",
    "    def __iter__(self):\n",
    "        return self\n",
    "    def __next__(self):\n",
    "        if self.__i < len(self.__s):\n",
    "            self.__i = self.__j\n",
    "            \n",
    "            while (self.__i < len(self.__s)) and  (self.__sa[self.__i] > len(self.__s) - self.__k - 1):\n",
    "                self.__i += 1\n",
    "            if self.__i == len(self.__s):\n",
    "                raise StopIteration\n",
    "            self.__j = self.__i+1\n",
    "            while ( self.__j < len(self.__s) ) and (self.__lcp[self.__j] >= self.__k):\n",
    "                self.__j += 1\n",
    "            ret = self.__s[ self.__sa[self.__i] : self.__sa[self.__i] + self.__k ]\n",
    "            #self.__i = self.__j #!!!!!!\n",
    "            return ret\n",
    "        else:\n",
    "            raise StopIteration\n",
    "            \n",
    "    def multiplicity(self):\n",
    "        return self.__j - self.__i\n",
    "    \n",
    "    def positions(self):\n",
    "        return self.__sa[self.__i : self.__j]\n",
    "    \n",
    "    \n",
    "it = ESAIterator('agctagctagctagtttagct', 3, sa=None, lcp=None)\n",
    "\n",
    "for kmer in it:\n",
    "    print(kmer, it.multiplicity(), it.positions())"
   ]
  },
  {
   "cell_type": "markdown",
   "metadata": {},
   "source": [
    "In addition, the iterator builds by it self the suffix and the LCP arrays if they are not proved by the user. The construction of the arrays is an expensive step, thus, this is not a good practice if multiple iterators has to be launched on the same strings, even with different values of $k$ ."
   ]
  },
  {
   "cell_type": "code",
   "execution_count": 23,
   "metadata": {
    "scrolled": true
   },
   "outputs": [
    {
     "name": "stdout",
     "output_type": "stream",
     "text": [
      "building suffix array...\n",
      "done\n",
      "building lcp array...\n",
      "done\n",
      "2-mers\n",
      "ag 5 [17, 0, 4, 8, 12]\n",
      "ct 3 [2, 6, 10]\n",
      "gc 4 [18, 1, 5, 9]\n",
      "gt 1 [13]\n",
      "ta 1 [16]\n",
      "ta 3 [3, 7, 11]\n",
      "tt 2 [15, 14]\n",
      "3-mers\n",
      "agc 4 [17, 0, 4, 8]\n",
      "agt 1 [12]\n",
      "cta 3 [2, 6, 10]\n",
      "gct 3 [1, 5, 9]\n",
      "gtt 1 [13]\n",
      "tag 1 [16]\n",
      "tag 3 [3, 7, 11]\n",
      "tta 1 [15]\n",
      "ttt 1 [14]\n"
     ]
    }
   ],
   "source": [
    "s = 'agctagctagctagtttagct'\n",
    "\n",
    "k = 2\n",
    "it = ESAIterator(s, k, sa=None, lcp=None)\n",
    "\n",
    "sa = it.get_sa()\n",
    "lcp = it.get_lcp()\n",
    "\n",
    "print(str(k)+\"-mers\")\n",
    "for kmer in it:\n",
    "    print(kmer, it.multiplicity(), it.positions())\n",
    " \n",
    "\n",
    "k = 3\n",
    "it = ESAIterator(s, k, sa, lcp)\n",
    "\n",
    "print(str(k)+\"-mers\")\n",
    "for kmer in it:\n",
    "    print(kmer, it.multiplicity(), it.positions())  "
   ]
  },
  {
   "cell_type": "markdown",
   "metadata": {},
   "source": [
    "There are many more efficient ways to built the suffix array and the LCP array. One of them is provided by the module `pysuffixarray`, that can be installed by the command `pip install pysuffixarray`."
   ]
  },
  {
   "cell_type": "code",
   "execution_count": 24,
   "metadata": {},
   "outputs": [
    {
     "name": "stdout",
     "output_type": "stream",
     "text": [
      "index\tsuffixes             \tSA\tLCP\n",
      "---------------------------------------------\n",
      "0\t                     \t21\t0\n",
      "1\tagct                 \t17\t0\n",
      "2\tagctagctagctagtttagct\t0\t4\n",
      "3\tagctagctagtttagct    \t4\t10\n",
      "4\tagctagtttagct        \t8\t6\n",
      "5\tagtttagct            \t12\t2\n",
      "6\tct                   \t19\t0\n",
      "7\tctagctagctagtttagct  \t2\t2\n",
      "8\tctagctagtttagct      \t6\t8\n",
      "9\tctagtttagct          \t10\t4\n",
      "10\tgct                  \t18\t0\n",
      "11\tgctagctagctagtttagct \t1\t3\n",
      "12\tgctagctagtttagct     \t5\t9\n",
      "13\tgctagtttagct         \t9\t5\n",
      "14\tgtttagct             \t13\t1\n",
      "15\tt                    \t20\t0\n",
      "16\ttagct                \t16\t1\n",
      "17\ttagctagctagtttagct   \t3\t5\n",
      "18\ttagctagtttagct       \t7\t7\n",
      "19\ttagtttagct           \t11\t3\n",
      "20\tttagct               \t15\t1\n",
      "21\ttttagct              \t14\t2\n"
     ]
    }
   ],
   "source": [
    "from pysuffixarray.core import SuffixArray\n",
    "sa_obj = SuffixArray(s)\n",
    "sa_sa = sa_obj.suffix_array()\n",
    "lcp_sa = sa_obj.longest_common_prefix()\n",
    "\n",
    "print_sa_lcp(s,sa_sa,lcp_sa)"
   ]
  },
  {
   "cell_type": "code",
   "execution_count": 25,
   "metadata": {},
   "outputs": [
    {
     "name": "stdout",
     "output_type": "stream",
     "text": [
      "3-mers\n",
      "agc 4 [17, 0, 4, 8]\n",
      "agt 1 [12]\n",
      "cta 3 [2, 6, 10]\n",
      "gct 3 [1, 5, 9]\n",
      "gtt 1 [13]\n",
      "tag 4 [16, 3, 7, 11]\n",
      "tta 1 [15]\n",
      "ttt 1 [14]\n"
     ]
    }
   ],
   "source": [
    "from pysuffixarray.core import SuffixArray\n",
    "sa_obj = SuffixArray(s)\n",
    "sa_sa = sa_obj.suffix_array()[1:]\n",
    "lcp_sa = sa_obj.longest_common_prefix()[1:]\n",
    "\n",
    "k = 3\n",
    "it = ESAIterator(s, k, sa_sa, lcp_sa)\n",
    "\n",
    "print(str(k)+\"-mers\")\n",
    "for kmer in it:\n",
    "    print(kmer, it.multiplicity(), it.positions()) "
   ]
  },
  {
   "cell_type": "markdown",
   "metadata": {},
   "source": [
    "<br>\n",
    "Similarly, an iterator based on the NESA data structure is implemented."
   ]
  },
  {
   "cell_type": "code",
   "execution_count": 26,
   "metadata": {
    "scrolled": false
   },
   "outputs": [
    {
     "name": "stdout",
     "output_type": "stream",
     "text": [
      "building suffix array...\n",
      "done\n",
      "building lcp array...\n",
      "done\n",
      "building ns array...\n",
      "done\n",
      "iterating 3-mers...\n",
      "agc 3 [18, 4, 0]\n",
      "agt 1 [13]\n",
      "cta 3 [6, 2, 11]\n",
      "gct 3 [19, 5, 1]\n",
      "gtt 1 [14]\n",
      "tag 4 [7, 17, 3, 12]\n",
      "tta 1 [16]\n",
      "ttt 1 [15]\n"
     ]
    }
   ],
   "source": [
    "class NESAIterator:\n",
    "    __s = None\n",
    "    __k = 0\n",
    "    __sa = None\n",
    "    __lcp = None\n",
    "    __ns = None\n",
    "    __i = 0\n",
    "    __j = 0\n",
    "    \n",
    "    def __init__(self, s, k, sa = None, lcp = None, ns = None):\n",
    "        self.__s = s\n",
    "        self.__k = k\n",
    "        \n",
    "        if sa == None:\n",
    "            self.build_sa()\n",
    "        else:\n",
    "            self.__sa = sa\n",
    "            \n",
    "        if lcp == None:\n",
    "            self.build_lcp()\n",
    "        else:\n",
    "            self.__lcp = lcp\n",
    "            \n",
    "        if ns == None:\n",
    "            self.build_ns()\n",
    "        else:\n",
    "            self.__ns = ns\n",
    "\n",
    "    def get_k(self):\n",
    "        return self.__k\n",
    "    \n",
    "    def reset(self):  #<--------------------------------------------------------------------------------\n",
    "        self.__i = 0\n",
    "        self.__j = 0\n",
    "            \n",
    "    def build_sa(self):\n",
    "        print(\"building suffix array...\")\n",
    "        suffixes = list()\n",
    "        for i in range(len(self.__s)):\n",
    "            suffixes.append( (self.__s[i:] + self.__s[:i] ,i) ) \n",
    "        self.__sa = list()\n",
    "        for suff in sorted(suffixes):\n",
    "            self.__sa.append(suff[1])\n",
    "        print('done')\n",
    "        \n",
    "        \n",
    "    def longest_prefix_length(s, i, j):\n",
    "        l = 0\n",
    "        while (i+l < len(s)) and (j+l < len(s)):\n",
    "            if s[i+l] != s[j+l]:\n",
    "                break\n",
    "            l += 1\n",
    "        return l\n",
    "\n",
    "    def build_lcp(self):\n",
    "        print('building lcp array...')\n",
    "        self.__lcp = list()\n",
    "        self.__lcp.append(0)\n",
    "        for i in range(1,len(self.__sa)):\n",
    "            self.__lcp.append( NESAIterator.longest_prefix_length(self.__s, self.__sa[i], self.__sa[i-1]) )\n",
    "        print('done')\n",
    "    \n",
    "    def build_ns(self):\n",
    "        print('building ns array...')\n",
    "        inv_sa = [0 for _ in range(len( self.__sa))]\n",
    "        for i in range(len(self.__sa)):\n",
    "            inv_sa[  self.__sa[i] ] = i\n",
    "\n",
    "        self.__ns = [0 for _ in range(len( self.__sa))]\n",
    "        lastn = len(self.__s)\n",
    "        for i in range(len(self.__s)-1,-1,-1):\n",
    "            if self.__s[i] == 'N':\n",
    "                lastn = i\n",
    "            self.__ns[ inv_sa[i] ] = lastn - i\n",
    "        print('done')\n",
    "        \n",
    "    def get_sa(self):\n",
    "        return self.__sa\n",
    "    \n",
    "    def get_lcp(self):\n",
    "        return self.__lcp\n",
    "    \n",
    "    def get_ns(self):\n",
    "        return self.__ns\n",
    "        \n",
    "        \n",
    "    def __iter__(self):\n",
    "        return self\n",
    "    def __next__(self):\n",
    "        if self.__i < len(self.__s):\n",
    "            self.__i = self.__j\n",
    "            \n",
    "            while (self.__i < len(self.__s)) and  ( (self.__sa[self.__i] > len(self.__s) - self.__k - 1) or (self.__ns[self.__i] < self.__k) ):\n",
    "                self.__i += 1\n",
    "            if self.__i == len(self.__s):\n",
    "                raise StopIteration\n",
    "            self.__j = self.__i+1\n",
    "            while ( self.__j < len(self.__s) ) and (self.__lcp[self.__j] >= self.__k) and (self.__ns[self.__i] >= self.__k) :\n",
    "                self.__j += 1\n",
    "            ret = self.__s[ self.__sa[self.__i] : self.__sa[self.__i] + self.__k ]\n",
    "            #self.__i = self.__j #!!!!!!\n",
    "            return ret\n",
    "        else:\n",
    "            raise StopIteration\n",
    "            \n",
    "    def multiplicity(self):\n",
    "        return self.__j - self.__i\n",
    "    \n",
    "    def positions(self):\n",
    "        return self.__sa[self.__i : self.__j]\n",
    "    \n",
    "    \n",
    "it = NESAIterator('agctagctagNctagtttagctN', 3, sa=None, lcp=None, ns = None)\n",
    "\n",
    "print('iterating '+str(it.get_k())+'-mers...')\n",
    "for kmer in it:\n",
    "    print(kmer, it.multiplicity(), it.positions())"
   ]
  },
  {
   "cell_type": "markdown",
   "metadata": {},
   "source": [
    "An useful operation with which to extend the iterator is the `reset` function, which restores the internal state to the initial value."
   ]
  },
  {
   "cell_type": "code",
   "execution_count": 27,
   "metadata": {},
   "outputs": [
    {
     "name": "stdout",
     "output_type": "stream",
     "text": [
      "reiterating 3-mers...\n",
      "first:  agc 3 [18, 4, 0]\n",
      "agt 1 [13]\n",
      "cta 3 [6, 2, 11]\n",
      "gct 3 [19, 5, 1]\n",
      "gtt 1 [14]\n",
      "tag 4 [7, 17, 3, 12]\n",
      "tta 1 [16]\n",
      "ttt 1 [15]\n"
     ]
    }
   ],
   "source": [
    "print('reiterating '+str(it.get_k())+'-mers...')\n",
    "it.reset() #<--------------------------------------------------------------------------------\n",
    "kmer = next(it) #<--------------------------------------------------------------------------------\n",
    "print(\"first: \",kmer, it.multiplicity(), it.positions())\n",
    "\n",
    "for kmer in it:\n",
    "    print(kmer, it.multiplicity(), it.positions())"
   ]
  },
  {
   "cell_type": "code",
   "execution_count": null,
   "metadata": {},
   "outputs": [],
   "source": []
  }
 ],
 "metadata": {
  "kernelspec": {
   "display_name": "Python 3",
   "language": "python",
   "name": "python3"
  },
  "language_info": {
   "codemirror_mode": {
    "name": "ipython",
    "version": 3
   },
   "file_extension": ".py",
   "mimetype": "text/x-python",
   "name": "python",
   "nbconvert_exporter": "python",
   "pygments_lexer": "ipython3",
   "version": "3.5.2"
  },
  "varInspector": {
   "cols": {
    "lenName": 16,
    "lenType": 16,
    "lenVar": 40
   },
   "kernels_config": {
    "python": {
     "delete_cmd_postfix": "",
     "delete_cmd_prefix": "del ",
     "library": "var_list.py",
     "varRefreshCmd": "print(var_dic_list())"
    },
    "r": {
     "delete_cmd_postfix": ") ",
     "delete_cmd_prefix": "rm(",
     "library": "var_list.r",
     "varRefreshCmd": "cat(var_dic_list()) "
    }
   },
   "types_to_exclude": [
    "module",
    "function",
    "builtin_function_or_method",
    "instance",
    "_Feature"
   ],
   "window_display": false
  }
 },
 "nbformat": 4,
 "nbformat_minor": 2
}
