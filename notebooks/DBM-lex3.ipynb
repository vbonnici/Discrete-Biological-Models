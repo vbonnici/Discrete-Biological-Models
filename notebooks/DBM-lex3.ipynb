{
 "cells": [
  {
   "cell_type": "markdown",
   "metadata": {},
   "source": [
    "# Recall"
   ]
  },
  {
   "cell_type": "code",
   "execution_count": 1,
   "metadata": {},
   "outputs": [],
   "source": [
    "s = 'agctaggaggatcgccagat'\n",
    "\n",
    "def get_kmers(s, k):\n",
    "    \"\"\" This function return the set of k-mers that occur in a given string s\"\"\"\n",
    "    kmers = set()\n",
    "    for i in range(len(s) - k +1):\n",
    "        kmers.add(s[i:i+k])\n",
    "    return kmers\n",
    "\n",
    "def count_occurrences(s,w):\n",
    "    \"\"\"\n",
    "        Count the number of occurences of w in s\n",
    "        --------\n",
    "        Parameters:\n",
    "            s (str)\n",
    "            w (str)\n",
    "    \"\"\"\n",
    "    count = 0\n",
    "    for i in range(len(s) -len(w) +1):\n",
    "        for j in range(len(w)):\n",
    "            if s[i+j] != w[j]:\n",
    "                break\n",
    "        else:\n",
    "            count += 1\n",
    "    return count"
   ]
  },
  {
   "cell_type": "markdown",
   "metadata": {},
   "source": [
    "---\n",
    "# Dictionary coverage\n",
    "\n",
    "The sequence coverage of a dictionary $D$ over a genome $s$ is defined as the number of positions of the genome that are involved in at least one occurrence of the words of the dictionary.\n",
    "<br>\n",
    "For each word of the dictionary, we firstly need to find its occurrences within the genome, and then we need to keep trace of their positions and coverage. \n",
    "<br>\n",
    "The function `get_positions` return the list of starting positions of the occurrences of a word $w$ in a string $s$.\n",
    "<br>\n",
    "An array of boolean is used to keep trace of the coverage of the occurrence. Initially, the array is filled with `False` values, subsequently it is filled with `True` values for each position covered by the word of the given dictionary.\n",
    "<br>\n",
    "A dictionary may contains words of different length, but this property does not influence the definition of sequence coverage."
   ]
  },
  {
   "cell_type": "code",
   "execution_count": 2,
   "metadata": {},
   "outputs": [
    {
     "name": "stdout",
     "output_type": "stream",
     "text": [
      "agctaggaggatcgccagat\n",
      "[True, True, False, True, True, True, True, True, True, True, True, True, False, False, False, True, True, True, True, True]\n",
      "sequence coverage: 16 covered positions over a total of 20 = 0.8\n"
     ]
    }
   ],
   "source": [
    "def get_positions(s,w):\n",
    "    \"\"\"\n",
    "        Return the starting postions in a reference string s where a word w occurs\n",
    "        ----\n",
    "        Paramters:\n",
    "            s (str) : the reference string\n",
    "            w (str) : the searched word\n",
    "        ----\n",
    "        Returns:\n",
    "            list[int] : the positions\n",
    "    \"\"\"\n",
    "    positions = list()\n",
    "    for i in range(len(s)):\n",
    "        if s[i:i+len(w)] == w:\n",
    "            positions.append(i)\n",
    "    return positions\n",
    "\n",
    "# s = 'agctaggaggatcgccagat'\n",
    "dictionary = ['ga', 'ag', 'ca', 't', 'aaaa']\n",
    "\n",
    "coverage = [False for _ in range(len(s))]\n",
    "\n",
    "# coverage = [False] * len(s)\n",
    "\n",
    "for w in dictionary:\n",
    "    for pos in get_positions(s,w):\n",
    "        for i in range(len(w)):\n",
    "            coverage[pos + i] = True\n",
    "\n",
    "print(s)\n",
    "print(coverage)\n",
    "\n",
    "print('sequence coverage:', coverage.count(True),'covered positions over a total of', len(s),'=', coverage.count(True)/len(s))"
   ]
  },
  {
   "cell_type": "markdown",
   "metadata": {},
   "source": [
    "<br>\n",
    "The positional coverage of a position within a given genome is defined as the number of occurrences of the word in a dictionary that cover the given genomic position.\n",
    "<br>\n",
    "The implementation of positional coverage is obtained by modification of the implementation of sequence coverage. The trace array is converted from a boolean vector to an array of integers. The array is initially filled with zero values. For each occurrence, the corresponding positions in the array are increased by a value equal to $1$."
   ]
  },
  {
   "cell_type": "code",
   "execution_count": 3,
   "metadata": {},
   "outputs": [
    {
     "name": "stdout",
     "output_type": "stream",
     "text": [
      "agctaggaggatcgccagat\n",
      "[1, 1, 0, 1, 1, 1, 1, 2, 1, 1, 1, 1, 0, 0, 0, 1, 2, 2, 1, 1]\n"
     ]
    }
   ],
   "source": [
    "def get_positions(s,w):\n",
    "    \"\"\"\n",
    "        Return the starting postions in a reference string s where a word w occurs\n",
    "        ----\n",
    "        Paramters:\n",
    "            s (str) : the reference string\n",
    "            w (str) : the searched word\n",
    "        ----\n",
    "        Returns:\n",
    "            list[int] : the positions\n",
    "    \"\"\"\n",
    "    positions = list()\n",
    "    for i in range(len(s)):\n",
    "        if s[i:i+len(w)] == w:\n",
    "            positions.append(i)\n",
    "    return positions\n",
    "\n",
    "print(s)\n",
    "\n",
    "dictionary = ['ga', 'ag', 'ca', 't']\n",
    "\n",
    "coverage = [0 for _ in range(len(s)) ]\n",
    "for w in dictionary:\n",
    "    for pos in get_positions(s,w):\n",
    "        for i in range(len(w)):\n",
    "            coverage[pos + i] += 1\n",
    "\n",
    "print(coverage)"
   ]
  },
  {
   "cell_type": "markdown",
   "metadata": {},
   "source": [
    "<br>\n",
    "The sequence coverage can also be retrieve from the integer array by counting the number of cells with a value that differs from zero."
   ]
  },
  {
   "cell_type": "code",
   "execution_count": 4,
   "metadata": {},
   "outputs": [
    {
     "name": "stdout",
     "output_type": "stream",
     "text": [
      "sequence coverage 16 / 20 = 0.8\n"
     ]
    }
   ],
   "source": [
    "print('sequence coverage',(len(coverage) - coverage.count(0)),'/',len(coverage),'=', (len(coverage) - coverage.count(0))  / len(coverage))"
   ]
  },
  {
   "cell_type": "markdown",
   "metadata": {},
   "source": [
    "<br>\n",
    "And statistics regarding the positional coverage for all the positions of the genome can be computed."
   ]
  },
  {
   "cell_type": "code",
   "execution_count": 5,
   "metadata": {},
   "outputs": [
    {
     "name": "stdout",
     "output_type": "stream",
     "text": [
      "average positional coverage 0.95\n",
      "standard deviation of positional coverage 0.6048053188292994\n"
     ]
    }
   ],
   "source": [
    "from statistics import mean, stdev\n",
    "\n",
    "print('average positional coverage', mean(coverage))\n",
    "print('standard deviation of positional coverage', stdev(coverage))"
   ]
  },
  {
   "cell_type": "markdown",
   "metadata": {},
   "source": [
    "<br>\n",
    "List comprehension can be used to calculate the mean positional coverage of only the covered positions."
   ]
  },
  {
   "cell_type": "code",
   "execution_count": 7,
   "metadata": {},
   "outputs": [
    {
     "name": "stdout",
     "output_type": "stream",
     "text": [
      "average positional coverage of covered positions 1.1875\n",
      "standard deviation of positional coverage of covered positions 0.4031128874149275\n"
     ]
    }
   ],
   "source": [
    "print('average positional coverage of covered positions', mean([ i for i in coverage if i > 0]))\n",
    "print('standard deviation of positional coverage of covered positions', stdev([ i for i in coverage if i > 0]))"
   ]
  },
  {
   "cell_type": "markdown",
   "metadata": {},
   "source": [
    "---"
   ]
  },
  {
   "cell_type": "markdown",
   "metadata": {},
   "source": [
    "## Reading FASTA files\n",
    "FASTA file are textual files containing genomic sequences written with the FASTA format.\n",
    "Multiple sequences can be stored into a single file. Each sequence is preceded by a description line that starts with a `>` character.\n",
    "Sequences are split into multiple lines, usually having at most 80 characters per each.\n",
    "\n",
    "<br>\n",
    "In python, file pointer are provided by the built-in `open` function, and they can be in reading or writing mode. The function returns and object that technically is a pointer to the file but it can also be used as an iterable object. The iteration is performed along the lines of the file."
   ]
  },
  {
   "cell_type": "code",
   "execution_count": 8,
   "metadata": {},
   "outputs": [
    {
     "name": "stdout",
     "output_type": "stream",
     "text": [
      "580076\n"
     ]
    }
   ],
   "source": [
    "ifile = 'mycoplasma_genitalium_G37.fna'\n",
    "\n",
    "s = ''\n",
    "\n",
    "for line in open(ifile, 'r'):\n",
    "    if line.strip()[0] != '>':\n",
    "        s += line.strip()\n",
    "\n",
    "print( len(s) )"
   ]
  },
  {
   "cell_type": "markdown",
   "metadata": {},
   "source": [
    "The `split` function remove multiple blank characters (spaces, tabulations and any other printable symbol that results into a black print) from the left and right of the string. \n",
    "<br>\n",
    "The first use of `strip` is to ensure that the `>` symbol is checked even if spaces are inserted before.\n",
    "The second one is used to remove the new line character, namely `\\n` from the read line. If the `strip` is not performed, the resultant genomic sequence will be a string with multiple lines concatenated by `\\n` character. This means that the alphabet of the string will contain also the `\\n` character. \n",
    "<br>\n",
    "<br>\n",
    "The function presented above is a toy example because it do not deal with FASTA file containing more than one genomic sequences. In fact, if multiple sequences are contained, the resultant string will be the concatenation of them."
   ]
  },
  {
   "cell_type": "markdown",
   "metadata": {},
   "source": [
    "---\n",
    "# Informational indexes\n",
    "\n",
    "The maximal repeat length (mrl) is defined as the length of the longest repeat. Starting from $k>1$, the search for the mrl checks for the existence of a repeat at word length $k$, and in positive case it scan forward to the next $k$. If no repeat are found at length $k$, then the procedure stops and the returned mrl value is $k-1$."
   ]
  },
  {
   "cell_type": "code",
   "execution_count": 9,
   "metadata": {},
   "outputs": [
    {
     "name": "stdout",
     "output_type": "stream",
     "text": [
      "mrl 14 , kmer TAACAATATTATTA , multiplicity 2\n"
     ]
    }
   ],
   "source": [
    "def mrl(s):\n",
    "    \"\"\" Calculate the maximal repeat length of a string s \"\"\"\n",
    "    k = 0\n",
    "    mrl = 0\n",
    "    kmer_mrl = ''\n",
    "    mult_mrl = 0\n",
    "    next_k = True\n",
    "    while next_k:\n",
    "        #print(k, end='', sep=' ')\n",
    "        k += 1\n",
    "        next_k = False\n",
    "        for kmer in get_kmers(s,k):\n",
    "            mult = count_occurrences(s,kmer)\n",
    "            if mult > 1:\n",
    "                mrl = k\n",
    "                kmer_mrl = kmer\n",
    "                mult_mrl = mult\n",
    "                next_k = True\n",
    "    return mrl, kmer_mrl, mult_mrl\n",
    "\n",
    "\n",
    "mrl_s, kmer_mrl, mult_mrl = mrl(s[:1000])\n",
    "# redefining mrl as a varibale will overwrite the mrl funciotn definition\n",
    "\n",
    "\n",
    "print('mrl', mrl_s, ', kmer', kmer_mrl, ', multiplicity', mult_mrl)"
   ]
  },
  {
   "cell_type": "markdown",
   "metadata": {},
   "source": [
    "\n",
    "The function returns the mrl value together with one of the repeats having such length. The multiplicity value is also returned."
   ]
  },
  {
   "cell_type": "markdown",
   "metadata": {},
   "source": [
    "<br>\n",
    "The search for the the minimum hapax length (mhl) is similar to the search for mrl. Starting from $k = 1$, the multiplicity of $k$-mers are examined and the value of $k$ is increased until the first hapax has not been found."
   ]
  },
  {
   "cell_type": "code",
   "execution_count": 10,
   "metadata": {},
   "outputs": [
    {
     "name": "stdout",
     "output_type": "stream",
     "text": [
      "mhl 3 , kmer CGA , multiplicity 1\n"
     ]
    }
   ],
   "source": [
    "def mhl(s):\n",
    "    \"\"\" Calculate the minimal hapax length of a string s \"\"\"\n",
    "    k = 0\n",
    "    mhl = 0\n",
    "    kmer_mhl = ''\n",
    "    mult_mhl = 0\n",
    "    next_k = True\n",
    "    while next_k:\n",
    "        k += 1\n",
    "        for kmer in get_kmers(s,k):\n",
    "            mult = count_occurrences(s,kmer)\n",
    "            if mult == 1:\n",
    "                mhl = k\n",
    "                kmer_mhl = kmer\n",
    "                mult_mhl = mult\n",
    "                next_k = False\n",
    "    return mhl, kmer_mhl, mult_mhl\n",
    "\n",
    "\n",
    "mhl_s, kmer_mhl, mult_mhl = mhl(s[:1000])\n",
    "\n",
    "print('mhl', mhl_s, ', kmer', kmer_mhl, ', multiplicity', mult_mhl)"
   ]
  },
  {
   "cell_type": "markdown",
   "metadata": {},
   "source": [
    "<br>\n",
    "The minimum forbidden length is calculated by comparing the size of the effective set of k-mers occurring in a sequence with the size of the theoretical one. The first word lengh $k$ at which the two sizes differ is the wanted value."
   ]
  },
  {
   "cell_type": "code",
   "execution_count": 11,
   "metadata": {},
   "outputs": [
    {
     "name": "stdout",
     "output_type": "stream",
     "text": [
      "mfl 6 , mcl 5\n"
     ]
    }
   ],
   "source": [
    "def get_alphabet(s):\n",
    "    al = set()\n",
    "    for c in s:\n",
    "        al.add(c)\n",
    "    return al\n",
    "\n",
    "def mfl(s, alphabet = None):\n",
    "    \"\"\" Calculate the minimal forbidden length of a string s \"\"\"\n",
    "    if alphabet == None:\n",
    "        a = len(get_alphabet(s))\n",
    "    else:\n",
    "        a = len(alphabet)\n",
    "        \n",
    "    k = 0\n",
    "    while True:\n",
    "        k += 1\n",
    "        kmers = get_kmers(s,k)\n",
    "        if len(kmers) != a**k:\n",
    "            return k\n",
    "        \n",
    "mfl_s = mfl(s)\n",
    "print('mfl',mfl_s, ', mcl', mfl_s - 1)"
   ]
  },
  {
   "cell_type": "markdown",
   "metadata": {},
   "source": [
    "---\n",
    "The reader may notice that in the previous examples the variable used to store the calculated indexes never have the same name of the function used to calculate it. This is due to the fact that if the same name is used, the declaration of the variable overwrites the declaration of the function, as it is shown in the following example."
   ]
  },
  {
   "cell_type": "code",
   "execution_count": 12,
   "metadata": {},
   "outputs": [
    {
     "name": "stdout",
     "output_type": "stream",
     "text": [
      "0\n"
     ]
    }
   ],
   "source": [
    "def my_funct():\n",
    "    return 0\n",
    "\n",
    "my_funct = my_funct()  # declaring a variable having the same name of a function declared before\n",
    "print(my_funct)"
   ]
  },
  {
   "cell_type": "markdown",
   "metadata": {},
   "source": [
    "Python is a programming language which uses left-most derivation. This means that first the function is called, then the assignment of its returned values to the variable is performed. Since the variable is declared for the first time, its declaration is the last operation that is executed. For this instruction forward, the function is no more available. In fact, if it is called back, the python interpreted will throws an error because the int variable is not callable."
   ]
  },
  {
   "cell_type": "code",
   "execution_count": 13,
   "metadata": {},
   "outputs": [
    {
     "ename": "TypeError",
     "evalue": "'int' object is not callable",
     "output_type": "error",
     "traceback": [
      "\u001b[0;31m---------------------------------------------------------------------------\u001b[0m",
      "\u001b[0;31mTypeError\u001b[0m                                 Traceback (most recent call last)",
      "\u001b[0;32m<ipython-input-13-50af49a3d99d>\u001b[0m in \u001b[0;36m<module>\u001b[0;34m()\u001b[0m\n\u001b[0;32m----> 1\u001b[0;31m \u001b[0mmy_funct\u001b[0m \u001b[0;34m=\u001b[0m \u001b[0mmy_funct\u001b[0m\u001b[0;34m(\u001b[0m\u001b[0;34m)\u001b[0m\u001b[0;34m\u001b[0m\u001b[0m\n\u001b[0m\u001b[1;32m      2\u001b[0m \u001b[0;34m\u001b[0m\u001b[0m\n\u001b[1;32m      3\u001b[0m \u001b[0mprint\u001b[0m\u001b[0;34m(\u001b[0m\u001b[0mmy_funct\u001b[0m\u001b[0;34m)\u001b[0m\u001b[0;34m\u001b[0m\u001b[0m\n",
      "\u001b[0;31mTypeError\u001b[0m: 'int' object is not callable"
     ]
    }
   ],
   "source": [
    "my_funct = my_funct() \n",
    "\n",
    "print(my_funct)"
   ]
  },
  {
   "cell_type": "markdown",
   "metadata": {},
   "source": [
    "---\n",
    "<br>\n",
    "An useful informational index is also the empirical $k$-entropy. Since entropy is defined only for discrete probability distributions, multiplicity of words must be converted to probabilisties (frequencies)."
   ]
  },
  {
   "cell_type": "code",
   "execution_count": 14,
   "metadata": {},
   "outputs": [
    {
     "name": "stdout",
     "output_type": "stream",
     "text": [
      "2-entropy 68.1465951013701\n"
     ]
    }
   ],
   "source": [
    "import math\n",
    "\n",
    "def k_entropy(s,k):\n",
    "    \"\"\" Calculate the empirical entropy at word length k of a string s \"\"\"\n",
    "    \n",
    "    t = 0.0\n",
    "    for kmer in get_kmers(s,k):\n",
    "        t += count_occurrences(s,kmer)\n",
    "    \n",
    "    e = 0.0\n",
    "    for kmer in get_kmers(s,k):\n",
    "        e += math.log(count_occurrences(s,kmer) / t, 2)\n",
    "    return -e\n",
    "    \n",
    "k = 2\n",
    "print(str(k)+'-entropy', k_entropy(s,k))"
   ]
  },
  {
   "cell_type": "markdown",
   "metadata": {},
   "source": [
    "---\n",
    "# Informational laws and genomic complexity\n",
    "We implement the informational laws and the computation of the genomic complexity. Then, we verify it on real genomes.\n",
    "\n",
    "1. $LG(G) = LOG_4(|G|)$\n",
    "2. $LX_{2LG}(G) = \\frac{\\sum_{\\alpha \\in D_{2LG(G)}(G)}{mult(\\alpha)}}{|D_{2LG(G)}(G)|}  $\n",
    "3. $AC(G) = 2LG(G) - E_{2LG}(G) $\n",
    "4. $EC(G) = LG(G) - AC(G) $\n",
    "5. $AF(G) = \\frac{AC(G)}{LG(G)}$\n",
    "6. $EH(G) = \\frac{EC(G) - AC(G)}{LG}$\n",
    "7. $BB =  AC^\\gamma  \\bigg( \\frac{EC- AC}{LG} \\bigg) ^{3\\gamma + 2}$"
   ]
  }
 ],
 "metadata": {
  "kernelspec": {
   "display_name": "Python 3",
   "language": "python",
   "name": "python3"
  },
  "language_info": {
   "codemirror_mode": {
    "name": "ipython",
    "version": 3
   },
   "file_extension": ".py",
   "mimetype": "text/x-python",
   "name": "python",
   "nbconvert_exporter": "python",
   "pygments_lexer": "ipython3",
   "version": "3.5.2"
  }
 },
 "nbformat": 4,
 "nbformat_minor": 2
}
