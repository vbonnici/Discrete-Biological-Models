{
 "cells": [
  {
   "cell_type": "markdown",
   "metadata": {},
   "source": [
    "# Recall"
   ]
  },
  {
   "cell_type": "code",
   "execution_count": 3,
   "metadata": {},
   "outputs": [],
   "source": [
    "s = 'agctaggaggatcgccagat'\n",
    "\n",
    "def get_kmers(s, k):\n",
    "    \"\"\" This function return the set of k-mers that occur in a given string \"\"\"\n",
    "    kmers = set()\n",
    "    for i in range(len(s) - k +1):\n",
    "        kmers.add(s[i:i+k])\n",
    "    return kmers\n",
    "\n",
    "def get_positions(s,w):\n",
    "    positions = list()\n",
    "    for i in range(len(s)):\n",
    "        if s[i:i+len(w)] == w:\n",
    "            positions.append(i)\n",
    "    return positions\n",
    "\n",
    "def count_occurrences(s,w):\n",
    "    \"\"\"\n",
    "        Count the number of occurences of w in s\n",
    "        --------\n",
    "        Parameters:\n",
    "            s (str)\n",
    "            w (str)\n",
    "    \"\"\"\n",
    "    count = 0\n",
    "    for i in range(len(s) -len(w) +1):\n",
    "        for j in range(len(w)):\n",
    "            if s[i+j] != w[j]:\n",
    "                break\n",
    "        else:\n",
    "            count += 1\n",
    "    return count\n",
    "\n",
    "\n",
    "def k_entropy(s,k):\n",
    "    \"\"\"\n",
    "        Calculate the empirical k-entropy on k-mers in s\n",
    "    \"\"\"\n",
    "    t = 0.0\n",
    "    for kmer in get_kmers(s,k):\n",
    "        t += count_occurrences(s,kmer)\n",
    "    \n",
    "    e = 0.0\n",
    "    for kmer in get_kmers(s,k):\n",
    "        e += math.log(count_occurrences(s,kmer) / t, 2)\n",
    "    return -e\n",
    "\n",
    "\n",
    "ifile = 'mycoplasma_genitalium_G37.fna'\n",
    "mg37 = ''\n",
    "for line in open(ifile, 'r'):\n",
    "    if line.strip()[0] != '>':\n",
    "        mg37 += line.strip()"
   ]
  },
  {
   "cell_type": "markdown",
   "metadata": {},
   "source": [
    "---\n",
    "# Genomic distributions"
   ]
  },
  {
   "cell_type": "markdown",
   "metadata": {},
   "source": [
    "## Word multiplicity distribution\n",
    "\n",
    "The word multiplicity distribution (WMD) is a function that assigns to words their corresponding multiplicity in a given string. <br>\n",
    "For example, one may wnat to assign to each symbol of the alphabet the number of its occurrences within a string."
   ]
  },
  {
   "cell_type": "code",
   "execution_count": 28,
   "metadata": {},
   "outputs": [
    {
     "name": "stdout",
     "output_type": "stream",
     "text": [
      "a 6\n",
      "c 4\n",
      "g 7\n",
      "t 3\n"
     ]
    }
   ],
   "source": [
    "nuc_alphabet = ['a','c','g','t']\n",
    "for n in nuc_alphabet:\n",
    "    print(n, count_occurrences(s,n))"
   ]
  },
  {
   "cell_type": "markdown",
   "metadata": {},
   "source": [
    "Generally, a specific word length  $k$ is chosen, and the distribution is retrieved for the set of  $k$-mers.The complete set of  $k$-mers, even if they not occur in the string, can be used as domain of the distribution, or only those occurring in the string can be taken into account."
   ]
  },
  {
   "cell_type": "code",
   "execution_count": 29,
   "metadata": {
    "scrolled": true
   },
   "outputs": [
    {
     "name": "stdout",
     "output_type": "stream",
     "text": [
      "tc 1\n",
      "cg 1\n",
      "ca 1\n",
      "ta 1\n",
      "ct 1\n",
      "gc 2\n",
      "ga 3\n",
      "gg 2\n",
      "at 2\n",
      "cc 1\n",
      "ag 4\n"
     ]
    }
   ],
   "source": [
    "kmers = get_kmers(s, k = 2)\n",
    "for kmer in kmers:\n",
    "    print(kmer, count_occurrences(s,kmer))"
   ]
  },
  {
   "cell_type": "markdown",
   "metadata": {},
   "source": [
    "---\n",
    "### Python key-value collections (dictionaries)\n",
    "Distributions are injective functions that assign values to a set of domain objects. In python, a data structure which maps values to keys in an injective way is called dictionary. Such data structure is a modifiable collection of pairs in the form $(key,value)$. \n",
    "<br>\n",
    "Dictionaries can be declared statically by specifying an initial set of pairs, or can be declared without an explicit initial collection.\n",
    "<br>\n",
    "The single-slice operator allows to access the value associated with a specific key, as well as the updated of the value."
   ]
  },
  {
   "cell_type": "code",
   "execution_count": 30,
   "metadata": {},
   "outputs": [
    {
     "name": "stdout",
     "output_type": "stream",
     "text": [
      "one\n",
      "two\n",
      "three\n"
     ]
    }
   ],
   "source": [
    "D = {1:'one', 2:'two'} \n",
    "\n",
    "print(D[1])\n",
    "print(D[2])\n",
    "\n",
    "D[3] = 'three'\n",
    "\n",
    "print(D[3])"
   ]
  },
  {
   "cell_type": "markdown",
   "metadata": {},
   "source": [
    "<br>\n",
    "There is not restriction on the type of keys and values."
   ]
  },
  {
   "cell_type": "code",
   "execution_count": 31,
   "metadata": {},
   "outputs": [
    {
     "name": "stdout",
     "output_type": "stream",
     "text": [
      "4\n"
     ]
    }
   ],
   "source": [
    "D['four'] = 4\n",
    "\n",
    "print(D['four'])"
   ]
  },
  {
   "cell_type": "markdown",
   "metadata": {},
   "source": [
    "<br>\n",
    "The built-in functions `items`, `keys` and `values` are used to iterate the collection."
   ]
  },
  {
   "cell_type": "code",
   "execution_count": 32,
   "metadata": {
    "scrolled": true
   },
   "outputs": [
    {
     "name": "stdout",
     "output_type": "stream",
     "text": [
      "(1, 'one')\n",
      "(2, 'two')\n",
      "(3, 'three')\n",
      "('four', 4)\n"
     ]
    }
   ],
   "source": [
    "for p in D.items():\n",
    "    print(p)"
   ]
  },
  {
   "cell_type": "code",
   "execution_count": 33,
   "metadata": {},
   "outputs": [
    {
     "name": "stdout",
     "output_type": "stream",
     "text": [
      "1 - one\n",
      "2 - two\n",
      "3 - three\n",
      "four - 4\n"
     ]
    }
   ],
   "source": [
    "for k in D.keys():\n",
    "    print(k,'-', D[k])"
   ]
  },
  {
   "cell_type": "code",
   "execution_count": 34,
   "metadata": {},
   "outputs": [
    {
     "name": "stdout",
     "output_type": "stream",
     "text": [
      "1 - one\n",
      "2 - two\n",
      "3 - three\n",
      "four - 4\n"
     ]
    }
   ],
   "source": [
    "for k,v in D.items():\n",
    "    print(k,'-',v)"
   ]
  },
  {
   "cell_type": "markdown",
   "metadata": {},
   "source": [
    "---\n",
    "### WMD as key-value collection\n",
    "The development of the word multiplicity distribution result into a python dictionary which assigns multiplicity values (integers) to a set of key k-mers (strings)."
   ]
  },
  {
   "cell_type": "code",
   "execution_count": 35,
   "metadata": {
    "scrolled": true
   },
   "outputs": [
    {
     "name": "stdout",
     "output_type": "stream",
     "text": [
      "tc 1\n",
      "cg 1\n",
      "ga 3\n",
      "gg 2\n",
      "ta 1\n",
      "ct 1\n",
      "at 2\n",
      "ca 1\n",
      "cc 1\n",
      "ag 4\n",
      "gc 2\n"
     ]
    }
   ],
   "source": [
    "WMD = dict() # multiplicity distribution \n",
    "kmers = get_kmers(s,2)\n",
    "for kmer in kmers:\n",
    "    WMD[kmer]  = count_occurrences(s,kmer)\n",
    "\n",
    "for kmer in WMD.keys():\n",
    "    print(kmer,  WMD[kmer])"
   ]
  },
  {
   "cell_type": "markdown",
   "metadata": {},
   "source": [
    "Technically speaking, there is no assumption to the order in which keys, or pairs, are iterate because it depends on the internal data structure used by the specific python version to implement the dictionary. Thus, in case the user wants to output the distribution by the lexicographical order of the k-mers, an explicit sorting must be performed."
   ]
  },
  {
   "cell_type": "code",
   "execution_count": 36,
   "metadata": {},
   "outputs": [
    {
     "name": "stdout",
     "output_type": "stream",
     "text": [
      "ag 4\n",
      "at 2\n",
      "ca 1\n",
      "cc 1\n",
      "cg 1\n",
      "ct 1\n",
      "ga 3\n",
      "gc 2\n",
      "gg 2\n",
      "ta 1\n",
      "tc 1\n"
     ]
    }
   ],
   "source": [
    "for kmer in sorted(WMD.keys()):\n",
    "    print(kmer, WMD[kmer])"
   ]
  },
  {
   "cell_type": "code",
   "execution_count": 37,
   "metadata": {
    "scrolled": true
   },
   "outputs": [
    {
     "name": "stdout",
     "output_type": "stream",
     "text": [
      "ag 4\n",
      "at 2\n",
      "ca 1\n",
      "cc 1\n",
      "cg 1\n",
      "ct 1\n",
      "ga 3\n",
      "gc 2\n",
      "gg 2\n",
      "ta 1\n",
      "tc 1\n"
     ]
    }
   ],
   "source": [
    "for kmer,mult in sorted(WMD.items()):\n",
    "    print(kmer, mult)"
   ]
  },
  {
   "cell_type": "markdown",
   "metadata": {},
   "source": [
    "---\n",
    "Retrieving the set of k-mers and then searching for their multiplicity results in a redundant combination of steps, that can be merged together. The distribution can be built while scanning for k-mers in the string and, at the same time, by updating their multiplicity values."
   ]
  },
  {
   "cell_type": "code",
   "execution_count": 38,
   "metadata": {},
   "outputs": [
    {
     "ename": "KeyError",
     "evalue": "'ag'",
     "output_type": "error",
     "traceback": [
      "\u001b[0;31m---------------------------------------------------------------------------\u001b[0m",
      "\u001b[0;31mKeyError\u001b[0m                                  Traceback (most recent call last)",
      "\u001b[0;32m<ipython-input-38-8cbf6223371f>\u001b[0m in \u001b[0;36m<module>\u001b[0;34m()\u001b[0m\n\u001b[1;32m      3\u001b[0m \u001b[0;32mfor\u001b[0m \u001b[0mi\u001b[0m \u001b[0;32min\u001b[0m \u001b[0mrange\u001b[0m\u001b[0;34m(\u001b[0m\u001b[0mlen\u001b[0m\u001b[0;34m(\u001b[0m\u001b[0ms\u001b[0m\u001b[0;34m)\u001b[0m \u001b[0;34m-\u001b[0m\u001b[0mk\u001b[0m \u001b[0;34m+\u001b[0m\u001b[0;36m1\u001b[0m\u001b[0;34m)\u001b[0m\u001b[0;34m:\u001b[0m\u001b[0;34m\u001b[0m\u001b[0m\n\u001b[1;32m      4\u001b[0m         \u001b[0mw\u001b[0m \u001b[0;34m=\u001b[0m \u001b[0ms\u001b[0m\u001b[0;34m[\u001b[0m\u001b[0mi\u001b[0m\u001b[0;34m:\u001b[0m\u001b[0mi\u001b[0m\u001b[0;34m+\u001b[0m\u001b[0mk\u001b[0m\u001b[0;34m]\u001b[0m  \u001b[0;31m# extraction of the k-mer at position i\u001b[0m\u001b[0;34m\u001b[0m\u001b[0m\n\u001b[0;32m----> 5\u001b[0;31m         \u001b[0mWMD\u001b[0m\u001b[0;34m[\u001b[0m\u001b[0mw\u001b[0m\u001b[0;34m]\u001b[0m \u001b[0;34m+=\u001b[0m \u001b[0;36m1\u001b[0m  \u001b[0;31m# update of the occurrence of the k-mer w\u001b[0m\u001b[0;34m\u001b[0m\u001b[0m\n\u001b[0m",
      "\u001b[0;31mKeyError\u001b[0m: 'ag'"
     ]
    }
   ],
   "source": [
    "WMD = dict() \n",
    "k = 2\n",
    "for i in range(len(s) -k +1):\n",
    "        w = s[i:i+k]  # extraction of the k-mer at position i\n",
    "        WMD[w] += 1  # update of the occurrence of the k-mer w"
   ]
  },
  {
   "cell_type": "markdown",
   "metadata": {},
   "source": [
    "The single-slice operator of `dict` can only be used to access pairs that have been previously inserted in the collection. Thus, using it to access a key not yet present will cause an error.\n",
    "<br>\n",
    "A possible way to solve the problem is to firstly check for the presence of the key, and in case of absence making a first insertion of it. The operator `in` allows to check for the existence of a key in a dictionary."
   ]
  },
  {
   "cell_type": "code",
   "execution_count": 39,
   "metadata": {},
   "outputs": [
    {
     "name": "stdout",
     "output_type": "stream",
     "text": [
      "tc 1\n",
      "cg 1\n",
      "ga 3\n",
      "gg 2\n",
      "ta 1\n",
      "ag 4\n",
      "at 2\n",
      "ca 1\n",
      "cc 1\n",
      "gc 2\n",
      "ct 1\n"
     ]
    }
   ],
   "source": [
    "WMD = dict() \n",
    "k = 2\n",
    "for i in range(len(s) -k +1):\n",
    "        w = s[i:i+k]\n",
    "        if w in WMD: \n",
    "            WMD[w] += 1\n",
    "        else:\n",
    "            WMD[w] = 1\n",
    "\n",
    "for kmer in WMD.keys():\n",
    "    print(kmer,  WMD[kmer])"
   ]
  },
  {
   "cell_type": "markdown",
   "metadata": {},
   "source": [
    "Alternatively, the built-in `get` function can be used. It allows to specify a default value that is returned in case of a missing key, without causing any error.\n",
    "<br>\n",
    "In the example, the default value of zero is used such that if $w$ has not yet inserted as a key, the `get` operation returns $0$ and the final counter is set to $1$. Conversely, if $w$ already exists within the collection, the operation return it current counter that will be updated by one."
   ]
  },
  {
   "cell_type": "code",
   "execution_count": 40,
   "metadata": {
    "scrolled": true
   },
   "outputs": [
    {
     "name": "stdout",
     "output_type": "stream",
     "text": [
      "tc 1\n",
      "cg 1\n",
      "ga 3\n",
      "gg 2\n",
      "ta 1\n",
      "ag 4\n",
      "at 2\n",
      "ca 1\n",
      "cc 1\n",
      "gc 2\n",
      "ct 1\n"
     ]
    }
   ],
   "source": [
    "WMD = dict() \n",
    "k = 2\n",
    "for i in range(len(s) -k +1):\n",
    "        w = s[i:i+k]\n",
    "        WMD[w] = WMD.get(w, 0) + 1\n",
    "\n",
    "for kmer in WMD.keys():\n",
    "    print(kmer,  WMD[kmer])"
   ]
  },
  {
   "cell_type": "markdown",
   "metadata": {},
   "source": [
    "Once a working code has been written, it can be also encapsulated in a function."
   ]
  },
  {
   "cell_type": "code",
   "execution_count": 5,
   "metadata": {},
   "outputs": [
    {
     "name": "stdout",
     "output_type": "stream",
     "text": [
      "ag 4\n",
      "at 2\n",
      "ca 1\n",
      "cc 1\n",
      "cg 1\n",
      "ct 1\n",
      "ga 3\n",
      "gc 2\n",
      "gg 2\n",
      "ta 1\n",
      "tc 1\n"
     ]
    }
   ],
   "source": [
    "def get_multiplicity_distribution(s,k):\n",
    "    \"\"\"\n",
    "        Return the word multiplciity distribution of k-mers occurrig in the string s\n",
    "         ------\n",
    "        Parameters:\n",
    "            s (str) : the input string\n",
    "            k (int) : the length of the k-mers \n",
    "        -------\n",
    "        Returns:\n",
    "            dict[str,int] : a dictionary which associates multiplicity values to the k-mers in s\n",
    "    \"\"\"\n",
    "    WMD = dict()\n",
    "    for i in range(len(s) -k +1):\n",
    "        w = s[i:i+k]\n",
    "        WMD[w] = WMD.get(w,0) + 1\n",
    "    return WMD\n",
    "        \n",
    "WMD = get_multiplicity_distribution(s,2)\n",
    "\n",
    "for k,v in sorted(WMD.items()):\n",
    "    print(k,v)"
   ]
  },
  {
   "cell_type": "markdown",
   "metadata": {},
   "source": [
    "<br>\n",
    "The given WMD implementation speeds the calculation of some of the informational indexes up."
   ]
  },
  {
   "cell_type": "code",
   "execution_count": 42,
   "metadata": {},
   "outputs": [
    {
     "name": "stdout",
     "output_type": "stream",
     "text": [
      "2-entropy 68.14659510137011\n",
      "seconds: 9.379900455474854\n",
      "\n",
      "2-entropy 68.14659510137011\n",
      "seconds: 0.2494194507598877\n"
     ]
    }
   ],
   "source": [
    "import math\n",
    "\n",
    "def k_entropy(s,k):\n",
    "    \"\"\"\n",
    "        Calculate the empirical k-entrpy on k-mers in s\n",
    "    \"\"\"\n",
    "    t = 0.0\n",
    "    for kmer in get_kmers(s,k):\n",
    "        t += count_occurrences(s,kmer)\n",
    "    \n",
    "    e = 0.0\n",
    "    for kmer in get_kmers(s,k):\n",
    "        e += math.log(count_occurrences(s,kmer) / t, 2)\n",
    "    return -e\n",
    "\n",
    "\n",
    "def fast_k_entropy(s,k):\n",
    "    \"\"\"\n",
    "        Calculate the empirical k-entrpy on k-mers in s\n",
    "    \"\"\"\n",
    "    distr = get_multiplicity_distribution(s,k)\n",
    "    t = sum(distr.values())\n",
    "    e = 0.0\n",
    "    for v in distr.values():\n",
    "        e += math.log(v / t, 2)\n",
    "    return -e\n",
    "    \n",
    "k = 2\n",
    "\n",
    "import time\n",
    "\n",
    "start_time = time.time()\n",
    "print(str(k)+'-entropy', k_entropy(mg37,k))\n",
    "print('seconds:', time.time() - start_time)\n",
    "\n",
    "print()\n",
    "\n",
    "start_time = time.time()\n",
    "print(str(k)+'-entropy', fast_k_entropy(mg37,k))\n",
    "print('seconds:', time.time() - start_time)"
   ]
  },
  {
   "cell_type": "markdown",
   "metadata": {},
   "source": [
    "---\n",
    "## Word length distribution\n",
    "The word length distribution (WLD) assigns to each word lenght $k$ the number of $k$-mers of $G$, namely the size of $D_k(G)$."
   ]
  },
  {
   "cell_type": "code",
   "execution_count": 44,
   "metadata": {},
   "outputs": [
    {
     "data": {
      "image/png": "[encoded data removed]",
      "text/plain": [
       "<Figure size 1440x432 with 1 Axes>"
      ]
     },
     "metadata": {},
     "output_type": "display_data"
    }
   ],
   "source": [
    "def wld(s, k_start, k_end):\n",
    "    \"\"\"\n",
    "        Calculate the word lenght distribution of the string s for the given range of values of word length k\n",
    "        ----\n",
    "        Paramters:\n",
    "            s (str) : the input string\n",
    "            k_start (int) : the initial word length\n",
    "            k_end (int) : the final word length\n",
    "        ----\n",
    "        Returns:\n",
    "            dict[int,int] : a dictionary which associates wolrd lengths (key) to the number of k-mers at each length (value)\n",
    "    \"\"\"\n",
    "    wld = dict()\n",
    "    for k in range(k_start,k_end):\n",
    "        wld[k] = len(get_kmers(s,k))\n",
    "    return wld\n",
    "\n",
    "k_start = 1\n",
    "k_end = 20\n",
    "wld = wld(mg37, k_start, k_end)\n",
    "\n",
    "import matplotlib.pyplot as plt\n",
    "bar_values = [v for k,v in sorted(wld.items())]\n",
    "plt.rcParams['figure.figsize'] = [20, 6]\n",
    "plt.bar(range(k_start,k_end), bar_values)\n",
    "plt.xticks(range(k_start,k_end), range(k_start,k_end))\n",
    "plt.ylabel('|D_k(G)|')\n",
    "plt.xlabel('k')\n",
    "plt.title('Word length distribution')\n",
    "plt.show()"
   ]
  },
  {
   "cell_type": "markdown",
   "metadata": {},
   "source": [
    "---\n",
    "## Average multiplcity distribution\n",
    "The average multiplcity distribution (AMD) assigns to each word lenght $k$ the average multiplcity of the k-mers of $G$."
   ]
  },
  {
   "cell_type": "code",
   "execution_count": 45,
   "metadata": {},
   "outputs": [
    {
     "data": {
      "image/png": "[encoded data removed]",
      "text/plain": [
       "<Figure size 1440x432 with 1 Axes>"
      ]
     },
     "metadata": {},
     "output_type": "display_data"
    }
   ],
   "source": [
    "import statistics \n",
    "\n",
    "def amd(s, k_start, k_end):\n",
    "    \"\"\"\n",
    "        Calculate the average multiplcity distribution of the string s for the given range of values of word length k\n",
    "        ----\n",
    "        Paramters:\n",
    "            s (str) : the input string\n",
    "            k_start (int) : the initial word length\n",
    "            k_end (int) : the final word length\n",
    "        ----\n",
    "        Returns:\n",
    "            dict[int,int] : a dictionary which associates word lengths (key) to the average multiplicity at the specific word length (value)\n",
    "    \"\"\"\n",
    "    amd = dict()\n",
    "    for k in range(k_start,k_end):\n",
    "        amd[k] = statistics.mean( get_multiplicity_distribution(s,k).values() )\n",
    "    return amd\n",
    "\n",
    "k_start = 1\n",
    "k_end = 20\n",
    "amd = amd(mg37, k_start, k_end)\n",
    "\n",
    "#for k,v in amd.items():\n",
    "#    amd[k] = math.log(v)\n",
    "\n",
    "#k_start = 12\n",
    "\n",
    "import matplotlib.pyplot as plt\n",
    "bar_values = [v for k,v in sorted(amd.items())]\n",
    "plt.rcParams['figure.figsize'] = [20, 6]\n",
    "plt.bar(range(k_start,k_end), bar_values)\n",
    "plt.xticks(range(k_start,k_end), range(k_start,k_end))\n",
    "plt.ylabel('Average multiplicity')\n",
    "plt.xlabel('k')\n",
    "plt.title('Average multiplicity distribution')\n",
    "plt.show()"
   ]
  },
  {
   "cell_type": "markdown",
   "metadata": {},
   "source": [
    "---\n",
    "## Empirical entropy distribution\n",
    "The empirical entropy distribution (EED) assigns to each word length $k$ the value of the k-entropy."
   ]
  },
  {
   "cell_type": "code",
   "execution_count": 46,
   "metadata": {},
   "outputs": [
    {
     "data": {
      "image/png": "[encoded data removed]",
      "text/plain": [
       "<Figure size 1440x432 with 1 Axes>"
      ]
     },
     "metadata": {},
     "output_type": "display_data"
    }
   ],
   "source": [
    "def eed(s, k_start, k_end):\n",
    "    \"\"\"\n",
    "        Calculate the empirical entropy distribution of the string s for the given range of values of word length k\n",
    "        ----\n",
    "        Paramters:\n",
    "            s (str) : the input string\n",
    "            k_start (int) : the initial word length\n",
    "            k_end (int) : the final word length\n",
    "        ----\n",
    "        Returns:\n",
    "            dict[int,int] : a dictionary which associates word lengths (key) to the empirical entropy at the specific word length (value)\n",
    "    \"\"\"\n",
    "    eed = dict()\n",
    "    for k in range(k_start,k_end):\n",
    "        eed[k] = fast_k_entropy(s,k)\n",
    "    return eed\n",
    "\n",
    "k_start = 1\n",
    "k_end = 20\n",
    "eed = eed(mg37[:10000], k_start, k_end)\n",
    "\n",
    "#for k,v in amd.items():\n",
    "#    amd[k] = math.log(v)\n",
    "\n",
    "#k_start = 12\n",
    "\n",
    "import matplotlib.pyplot as plt\n",
    "bar_values = [v for k,v in sorted(eed.items())]\n",
    "plt.rcParams['figure.figsize'] = [20, 6]\n",
    "plt.bar(range(k_start,k_end), bar_values)\n",
    "plt.xticks(range(k_start,k_end), range(k_start,k_end))\n",
    "plt.ylabel('k-entropy')\n",
    "plt.xlabel('k')\n",
    "plt.title('Empirical entropy distribution')\n",
    "plt.show()"
   ]
  },
  {
   "cell_type": "markdown",
   "metadata": {},
   "source": [
    "---\n",
    "##  Word co-multiplicity distribution\n",
    "Given a value of $k$, the word multiplicity distribution (WMD) reports for each value of multiplicity the number of word having such multiplicity"
   ]
  },
  {
   "cell_type": "code",
   "execution_count": 9,
   "metadata": {},
   "outputs": [
    {
     "data": {
      "image/png": "[encoded data removed]",
      "text/plain": [
       "<Figure size 1440x432 with 1 Axes>"
      ]
     },
     "metadata": {},
     "output_type": "display_data"
    }
   ],
   "source": [
    "def wcmd(s,k):\n",
    "    \"\"\"\n",
    "        Calculate the word co-multiplicity distribution of the string s for the given value of word length k\n",
    "        ----\n",
    "        Paramters:\n",
    "            s (str) : the input string\n",
    "            k (int) : the word length\n",
    "        ----\n",
    "        Returns:\n",
    "            dict[int,int] : a dictionary which associates a multiplicity value (key) to the number of k-mers having such multiplicity (value)\n",
    "    \"\"\"\n",
    "    distr = dict()\n",
    "    mdistr = get_multiplicity_distribution(s,k)\n",
    "    for m in mdistr.values():\n",
    "        distr[m]= distr.get(m,0) + 1\n",
    "    return distr\n",
    "\n",
    "k = 6\n",
    "wcmd = wcmd(mg37[:100000],k)\n",
    "# add missing multiplicity values\n",
    "for i in range(1,max(wcmd.keys())):\n",
    "    wcmd[i] = wcmd.get(i,0) + 0\n",
    "\n",
    "import matplotlib.pyplot as plt\n",
    "bar_values = [v for k,v in sorted(wcmd.items())]\n",
    "plt.rcParams['figure.figsize'] = [20, 6]\n",
    "plt.bar(sorted(wcmd.keys()), bar_values, width=1.0)\n",
    "plt.ylabel('Number of words')\n",
    "plt.xlabel('Multiplicity')\n",
    "plt.title('Word co-multiplicity distribution')\n",
    "plt.show()"
   ]
  },
  {
   "cell_type": "code",
   "execution_count": null,
   "metadata": {},
   "outputs": [],
   "source": []
  }
 ],
 "metadata": {
  "kernelspec": {
   "display_name": "Python 3",
   "language": "python",
   "name": "python3"
  },
  "language_info": {
   "codemirror_mode": {
    "name": "ipython",
    "version": 3
   },
   "file_extension": ".py",
   "mimetype": "text/x-python",
   "name": "python",
   "nbconvert_exporter": "python",
   "pygments_lexer": "ipython3",
   "version": "3.5.2"
  },
  "varInspector": {
   "cols": {
    "lenName": 16,
    "lenType": 16,
    "lenVar": 40
   },
   "kernels_config": {
    "python": {
     "delete_cmd_postfix": "",
     "delete_cmd_prefix": "del ",
     "library": "var_list.py",
     "varRefreshCmd": "print(var_dic_list())"
    },
    "r": {
     "delete_cmd_postfix": ") ",
     "delete_cmd_prefix": "rm(",
     "library": "var_list.r",
     "varRefreshCmd": "cat(var_dic_list()) "
    }
   },
   "types_to_exclude": [
    "module",
    "function",
    "builtin_function_or_method",
    "instance",
    "_Feature"
   ],
   "window_display": false
  }
 },
 "nbformat": 4,
 "nbformat_minor": 2
}
