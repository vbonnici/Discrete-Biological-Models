{
 "cells": [
  {
   "cell_type": "markdown",
   "metadata": {},
   "source": [
    "# Recall"
   ]
  },
  {
   "cell_type": "code",
   "execution_count": 3,
   "metadata": {},
   "outputs": [],
   "source": [
    "s = 'agctaggaggatcgccagat'\n",
    "\n",
    "def get_kmers(s, k):\n",
    "    \"\"\" This function return the set of k-mers that occur in a given string \"\"\"\n",
    "    kmers = set()\n",
    "    for i in range(len(s) - k +1):\n",
    "        kmers.add(s[i:i+k])\n",
    "    return kmers\n",
    "\n",
    "def get_positions(s,w):\n",
    "    positions = list()\n",
    "    for i in range(len(s)):\n",
    "        if s[i:i+len(w)] == w:\n",
    "            positions.append(i)\n",
    "    return positions\n",
    "\n",
    "def count_occurrences(s,w):\n",
    "    \"\"\"\n",
    "        Count the number of occurences of w in s\n",
    "        --------\n",
    "        Parameters:\n",
    "            s (str)\n",
    "            w (str)\n",
    "    \"\"\"\n",
    "    count = 0\n",
    "    for i in range(len(s) -len(w) +1):\n",
    "        for j in range(len(w)):\n",
    "            if s[i+j] != w[j]:\n",
    "                break\n",
    "        else:\n",
    "            count += 1\n",
    "    return count\n",
    "\n",
    "\n",
    "def k_entropy(s,k):\n",
    "    \"\"\"\n",
    "        Calculate the empirical k-entropy on k-mers in s\n",
    "    \"\"\"\n",
    "    t = 0.0\n",
    "    for kmer in get_kmers(s,k):\n",
    "        t += count_occurrences(s,kmer)\n",
    "    \n",
    "    e = 0.0\n",
    "    for kmer in get_kmers(s,k):\n",
    "        e += math.log(count_occurrences(s,kmer) / t, 2)\n",
    "    return -e\n"
   ]
  },
  {
   "cell_type": "markdown",
   "metadata": {},
   "source": [
    "---\n",
    "# Genomic distributions"
   ]
  },
  {
   "cell_type": "markdown",
   "metadata": {},
   "source": [
    "## Word multiplicity distribution\n",
    "\n",
    "The word multiplicity distribution (WMD) is a function that assigns to words their corresponding multiplicity in a given string. <br>\n",
    "For example, one may wnat to assign to each symbol of the alphabet the number of its occurrences within a string."
   ]
  },
  {
   "cell_type": "code",
   "execution_count": 4,
   "metadata": {},
   "outputs": [
    {
     "name": "stdout",
     "output_type": "stream",
     "text": [
      "a 6\n",
      "c 4\n",
      "g 7\n",
      "t 3\n"
     ]
    }
   ],
   "source": [
    "nuc_alphabet = ['a','c','g','t']\n",
    "for n in nuc_alphabet:\n",
    "    print(n, s.count(n))"
   ]
  },
  {
   "cell_type": "markdown",
   "metadata": {},
   "source": [
    "Generally, a specific word length  $k$ is chosen, and the distribution is retrieved for the set of  $k$-mers.The complete set of  $k$-mers, even if they not occur in the string, can be used as domain of the distribution, or only those occurring in the string can be taken into account."
   ]
  },
  {
   "cell_type": "code",
   "execution_count": 5,
   "metadata": {
    "scrolled": true
   },
   "outputs": [
    {
     "name": "stdout",
     "output_type": "stream",
     "text": [
      "gc 2\n",
      "tc 1\n",
      "ca 1\n",
      "ta 1\n",
      "ag 4\n",
      "at 2\n",
      "cc 1\n",
      "cg 1\n",
      "ct 1\n",
      "gg 2\n",
      "ga 3\n"
     ]
    }
   ],
   "source": [
    "kmers = get_kmers(s, k = 2)\n",
    "for kmer in kmers:\n",
    "    print(kmer, count_occurrences(s,kmer))"
   ]
  },
  {
   "cell_type": "markdown",
   "metadata": {},
   "source": [
    "---\n",
    "### Python key-value collections (dictionaries)\n",
    "Distributions are injective functions that assign values to a set of domain objects. In python, a data structure which maps values to keys in an injective way is called dictionary. Such data structure is a modifiable collection of pairs in the form $(key,value)$. \n",
    "<br>\n",
    "Dictionaries can be declared statically by specifying an initial set of pairs, or can be declared without an explicit initial collection.\n",
    "<br>\n",
    "The single-slice operator allows to access the value associated with a specific key, as well as the updated of the value."
   ]
  },
  {
   "cell_type": "code",
   "execution_count": 6,
   "metadata": {},
   "outputs": [
    {
     "name": "stdout",
     "output_type": "stream",
     "text": [
      "one\n",
      "two\n",
      "three\n"
     ]
    }
   ],
   "source": [
    "D = {1:'one', 2:'two'} \n",
    "\n",
    "print(D[1])\n",
    "print(D[2])\n",
    "\n",
    "D[3] = 'three'\n",
    "\n",
    "print(D[3])"
   ]
  },
  {
   "cell_type": "markdown",
   "metadata": {},
   "source": [
    "<br>\n",
    "There is not restriction on the type of keys and values."
   ]
  },
  {
   "cell_type": "code",
   "execution_count": 7,
   "metadata": {},
   "outputs": [
    {
     "name": "stdout",
     "output_type": "stream",
     "text": [
      "4\n"
     ]
    }
   ],
   "source": [
    "D['four'] = 4\n",
    "\n",
    "print(D['four'])"
   ]
  },
  {
   "cell_type": "markdown",
   "metadata": {},
   "source": [
    "<br>\n",
    "The built-in functions `items`, `keys` and `values` are used to iterate the collection."
   ]
  },
  {
   "cell_type": "code",
   "execution_count": 8,
   "metadata": {
    "scrolled": true
   },
   "outputs": [
    {
     "name": "stdout",
     "output_type": "stream",
     "text": [
      "(1, 'one')\n",
      "(2, 'two')\n",
      "(3, 'three')\n",
      "('four', 4)\n"
     ]
    }
   ],
   "source": [
    "for p in D.items():\n",
    "    print(p)"
   ]
  },
  {
   "cell_type": "code",
   "execution_count": 9,
   "metadata": {},
   "outputs": [
    {
     "name": "stdout",
     "output_type": "stream",
     "text": [
      "1 - one\n",
      "2 - two\n",
      "3 - three\n",
      "four - 4\n"
     ]
    }
   ],
   "source": [
    "for k in D.keys():\n",
    "    print(k,'-', D[k])"
   ]
  },
  {
   "cell_type": "code",
   "execution_count": 10,
   "metadata": {},
   "outputs": [
    {
     "name": "stdout",
     "output_type": "stream",
     "text": [
      "1 - one\n",
      "2 - two\n",
      "3 - three\n",
      "four - 4\n"
     ]
    }
   ],
   "source": [
    "for k,v in D.items():\n",
    "    print(k,'-',v)"
   ]
  },
  {
   "cell_type": "markdown",
   "metadata": {},
   "source": [
    "---\n",
    "### WMD as key-value collection\n",
    "The development of the word multiplicity distribution result into a python dictionary which assigns multiplicity values (integers) to a set of key k-mers (strings)."
   ]
  },
  {
   "cell_type": "code",
   "execution_count": 11,
   "metadata": {
    "scrolled": true
   },
   "outputs": [
    {
     "name": "stdout",
     "output_type": "stream",
     "text": [
      "cc 1\n",
      "gc 2\n",
      "cg 1\n",
      "tc 1\n",
      "ca 1\n",
      "ta 1\n",
      "ag 4\n",
      "ga 3\n",
      "gg 2\n",
      "at 2\n",
      "ct 1\n"
     ]
    }
   ],
   "source": [
    "WMD = dict() # multiplicity distribution \n",
    "kmers = get_kmers(s,2)\n",
    "for kmer in kmers:\n",
    "    WMD[kmer]  = count_occurrences(s,kmer)\n",
    "\n",
    "for kmer in WMD.keys():\n",
    "    print(kmer,  WMD[kmer])"
   ]
  },
  {
   "cell_type": "markdown",
   "metadata": {},
   "source": [
    "Technically speaking, there is no assumption to the order in which keys, or pairs, are iterate because it depends on the internal data structure used by the specific python version to implement the dictionary. Thus, in case the user wants to output the distribution by the lexicographical order of the k-mers, an explicit sorting must be performed."
   ]
  },
  {
   "cell_type": "code",
   "execution_count": 12,
   "metadata": {},
   "outputs": [
    {
     "name": "stdout",
     "output_type": "stream",
     "text": [
      "ag 4\n",
      "at 2\n",
      "ca 1\n",
      "cc 1\n",
      "cg 1\n",
      "ct 1\n",
      "ga 3\n",
      "gc 2\n",
      "gg 2\n",
      "ta 1\n",
      "tc 1\n"
     ]
    }
   ],
   "source": [
    "for kmer in sorted(WMD.keys()):\n",
    "    print(kmer, WMD[kmer])"
   ]
  },
  {
   "cell_type": "code",
   "execution_count": 13,
   "metadata": {
    "scrolled": true
   },
   "outputs": [
    {
     "name": "stdout",
     "output_type": "stream",
     "text": [
      "ag 4\n",
      "at 2\n",
      "ca 1\n",
      "cc 1\n",
      "cg 1\n",
      "ct 1\n",
      "ga 3\n",
      "gc 2\n",
      "gg 2\n",
      "ta 1\n",
      "tc 1\n"
     ]
    }
   ],
   "source": [
    "for kmer,mult in sorted(WMD.items()):\n",
    "    print(kmer, mult)"
   ]
  },
  {
   "cell_type": "markdown",
   "metadata": {},
   "source": [
    "---\n",
    "Retrieving the set of k-mers and then searching for their multiplicity results in a redundant combination of steps, that can be merged together. The distribution can be built while scanning for k-mers in the string and, at the same time, by updating their multiplicity values."
   ]
  },
  {
   "cell_type": "code",
   "execution_count": 14,
   "metadata": {},
   "outputs": [
    {
     "ename": "KeyError",
     "evalue": "'ag'",
     "output_type": "error",
     "traceback": [
      "\u001b[0;31m---------------------------------------------------------------------------\u001b[0m",
      "\u001b[0;31mKeyError\u001b[0m                                  Traceback (most recent call last)",
      "\u001b[0;32m<ipython-input-14-8cbf6223371f>\u001b[0m in \u001b[0;36m<module>\u001b[0;34m()\u001b[0m\n\u001b[1;32m      3\u001b[0m \u001b[0;32mfor\u001b[0m \u001b[0mi\u001b[0m \u001b[0;32min\u001b[0m \u001b[0mrange\u001b[0m\u001b[0;34m(\u001b[0m\u001b[0mlen\u001b[0m\u001b[0;34m(\u001b[0m\u001b[0ms\u001b[0m\u001b[0;34m)\u001b[0m \u001b[0;34m-\u001b[0m\u001b[0mk\u001b[0m \u001b[0;34m+\u001b[0m\u001b[0;36m1\u001b[0m\u001b[0;34m)\u001b[0m\u001b[0;34m:\u001b[0m\u001b[0;34m\u001b[0m\u001b[0m\n\u001b[1;32m      4\u001b[0m         \u001b[0mw\u001b[0m \u001b[0;34m=\u001b[0m \u001b[0ms\u001b[0m\u001b[0;34m[\u001b[0m\u001b[0mi\u001b[0m\u001b[0;34m:\u001b[0m\u001b[0mi\u001b[0m\u001b[0;34m+\u001b[0m\u001b[0mk\u001b[0m\u001b[0;34m]\u001b[0m  \u001b[0;31m# extraction of the k-mer at position i\u001b[0m\u001b[0;34m\u001b[0m\u001b[0m\n\u001b[0;32m----> 5\u001b[0;31m         \u001b[0mWMD\u001b[0m\u001b[0;34m[\u001b[0m\u001b[0mw\u001b[0m\u001b[0;34m]\u001b[0m \u001b[0;34m+=\u001b[0m \u001b[0;36m1\u001b[0m  \u001b[0;31m# update of the occurrence of the k-mer w\u001b[0m\u001b[0;34m\u001b[0m\u001b[0m\n\u001b[0m",
      "\u001b[0;31mKeyError\u001b[0m: 'ag'"
     ]
    }
   ],
   "source": [
    "WMD = dict() \n",
    "k = 2\n",
    "for i in range(len(s) -k +1):\n",
    "        w = s[i:i+k]  # extraction of the k-mer at position i\n",
    "        WMD[w] += 1  # update of the occurrence of the k-mer w"
   ]
  },
  {
   "cell_type": "markdown",
   "metadata": {},
   "source": [
    "The single-slice operator of `dict` can only be used to access pairs that have been previously inserted in the collection. Thus, using it to access a key not yet present will cause an error.\n",
    "<br>\n",
    "A possible way to solve the problem is to firstly check for the presence of the key, and in case of absence making a first insertion of it. The operator `in` allows to check for the existence of a key in a dictionary."
   ]
  },
  {
   "cell_type": "code",
   "execution_count": 15,
   "metadata": {},
   "outputs": [
    {
     "name": "stdout",
     "output_type": "stream",
     "text": [
      "cc 1\n",
      "gc 2\n",
      "cg 1\n",
      "ct 1\n",
      "tc 1\n",
      "ta 1\n",
      "ag 4\n",
      "gg 2\n",
      "ga 3\n",
      "ca 1\n",
      "at 2\n"
     ]
    }
   ],
   "source": [
    "WMD = dict() \n",
    "k = 2\n",
    "for i in range(len(s) -k +1):\n",
    "        w = s[i:i+k]\n",
    "        if w in WMD: \n",
    "            WMD[w] += 1\n",
    "        else:\n",
    "            WMD[w] = 1\n",
    "\n",
    "for kmer in WMD.keys():\n",
    "    print(kmer,  WMD[kmer])"
   ]
  },
  {
   "cell_type": "markdown",
   "metadata": {},
   "source": [
    "Alternatively, the built-in `get` function can be used. It allows to specify a default value that is returned in case of a missing key, without causing any error.\n",
    "<br>\n",
    "In the example, the default value of zero is used such that if $w$ has not yet inserted as a key, the `get` operation returns $0$ and the final counter is set to $1$. Conversely, if $w$ already exists within the collection, the operation return it current counter that will be updated by one."
   ]
  },
  {
   "cell_type": "code",
   "execution_count": 16,
   "metadata": {
    "scrolled": true
   },
   "outputs": [
    {
     "name": "stdout",
     "output_type": "stream",
     "text": [
      "cc 1\n",
      "gc 2\n",
      "cg 1\n",
      "ct 1\n",
      "tc 1\n",
      "ta 1\n",
      "ag 4\n",
      "gg 2\n",
      "ga 3\n",
      "ca 1\n",
      "at 2\n"
     ]
    }
   ],
   "source": [
    "WMD = dict() \n",
    "k = 2\n",
    "for i in range(len(s) -k +1):\n",
    "        w = s[i:i+k]\n",
    "        WMD[w] = WMD.get(w, 0) + 1\n",
    "\n",
    "for kmer in WMD.keys():\n",
    "    print(kmer,  WMD[kmer])"
   ]
  },
  {
   "cell_type": "markdown",
   "metadata": {},
   "source": [
    "Once a working code has been written, it can be also encapsulated in a function."
   ]
  },
  {
   "cell_type": "code",
   "execution_count": 17,
   "metadata": {},
   "outputs": [
    {
     "name": "stdout",
     "output_type": "stream",
     "text": [
      "ag 4\n",
      "at 2\n",
      "ca 1\n",
      "cc 1\n",
      "cg 1\n",
      "ct 1\n",
      "ga 3\n",
      "gc 2\n",
      "gg 2\n",
      "ta 1\n",
      "tc 1\n"
     ]
    }
   ],
   "source": [
    "def get_multiplicity_distribution(s,k):\n",
    "    \"\"\"\n",
    "        Return the word multiplciity distribution of k-mers occurrig in the string s\n",
    "         ------\n",
    "        Parameters:\n",
    "            s (str) : the input string\n",
    "            k (int) : the length of the k-mers \n",
    "        -------\n",
    "        Returns:\n",
    "            dict[str,int] : a dictionary which associates multiplicity values to the k-mers in s\n",
    "    \"\"\"\n",
    "    WMD = dict()\n",
    "    for i in range(len(s) -k +1):\n",
    "        w = s[i:i+k]\n",
    "        WMD[w] = WMD.get(w,0) + 1\n",
    "    return WMD\n",
    "        \n",
    "WMD = get_multiplicity_distribution(s,2)\n",
    "\n",
    "for k,v in sorted(WMD.items()):\n",
    "    print(k,v)"
   ]
  },
  {
   "cell_type": "markdown",
   "metadata": {},
   "source": [
    "<br>\n",
    "The given WMD implementation speed the calculation of the informational indexes up."
   ]
  },
  {
   "cell_type": "code",
   "execution_count": 18,
   "metadata": {},
   "outputs": [
    {
     "name": "stdout",
     "output_type": "stream",
     "text": [
      "2-entropy 68.14659510137011\n",
      "seconds: 9.609326839447021\n",
      "\n",
      "2-entropy 68.14659510137011\n",
      "seconds: 0.2609133720397949\n"
     ]
    }
   ],
   "source": [
    "ifile = 'mycoplasma_genitalium_G37.fna'\n",
    "mg37 = ''\n",
    "for line in open(ifile, 'r'):\n",
    "    if line.strip()[0] != '>':\n",
    "        mg37 += line.strip()\n",
    "\n",
    "\n",
    "def k_entropy(s,k):\n",
    "    \"\"\"\n",
    "        Calculate the empirical k-entrpy on k-mers in s\n",
    "    \"\"\"\n",
    "    t = 0.0\n",
    "    for kmer in get_kmers(s,k):\n",
    "        t += count_occurrences(s,kmer)\n",
    "    \n",
    "    e = 0.0\n",
    "    for kmer in get_kmers(s,k):\n",
    "        e += math.log(count_occurrences(s,kmer) / t, 2)\n",
    "    return -e\n",
    "\n",
    "        \n",
    "import math\n",
    "\n",
    "def fast_k_entropy(s,k):\n",
    "    distr = get_multiplicity_distribution(s,k)\n",
    "    t = sum(distr.values())\n",
    "    e = 0.0\n",
    "    for v in distr.values():\n",
    "        e += math.log(v / t, 2)\n",
    "    return -e\n",
    "    \n",
    "k = 2\n",
    "\n",
    "import time\n",
    "\n",
    "start_time = time.time()\n",
    "print(str(k)+'-entropy', k_entropy(mg37,k))\n",
    "print('seconds:', time.time() - start_time)\n",
    "\n",
    "print()\n",
    "\n",
    "start_time = time.time()\n",
    "print(str(k)+'-entropy', fast_k_entropy(mg37,k))\n",
    "print('seconds:', time.time() - start_time)"
   ]
  },
  {
   "cell_type": "markdown",
   "metadata": {},
   "source": [
    "---\n",
    "## Word length distribution\n",
    "The word length distribution (WLD) assigns to each word lenght $k$ the number of $k$-mers of $G$, namely the size of $D_k(G)$."
   ]
  },
  {
   "cell_type": "code",
   "execution_count": 20,
   "metadata": {},
   "outputs": [
    {
     "data": {
      "image/png": "[encoded data removed]",
      "text/plain": [
       "<Figure size 1440x432 with 1 Axes>"
      ]
     },
     "metadata": {},
     "output_type": "display_data"
    }
   ],
   "source": [
    "def wld(s, k_start, k_end):\n",
    "    wld = dict()\n",
    "    for k in range(k_start,k_end):\n",
    "        wld[k] = len(get_kmers(s,k))\n",
    "    return wld\n",
    "\n",
    "k_start = 1\n",
    "k_end = 20\n",
    "wld = wld(mg37, k_start, k_end)\n",
    "\n",
    "import matplotlib.pyplot as plt\n",
    "bar_values = [v for k,v in sorted(wld.items())]\n",
    "plt.rcParams['figure.figsize'] = [20, 6]\n",
    "plt.bar(range(k_start,k_end), bar_values)\n",
    "plt.xticks(range(k_start,k_end), range(k_start,k_end))\n",
    "plt.ylabel('|D_k(G)|')\n",
    "plt.xlabel('k')\n",
    "plt.title('Word length distribution')\n",
    "plt.show()"
   ]
  },
  {
   "cell_type": "markdown",
   "metadata": {},
   "source": [
    "---\n",
    "## Average multiplcity distribution\n",
    "The average multiplcity distribution (AMD) assigns to each word lenght $k$ the average multiplcity of the k-mers of $G$."
   ]
  },
  {
   "cell_type": "code",
   "execution_count": 19,
   "metadata": {},
   "outputs": [
    {
     "data": {
      "image/png": "[encoded data removed]",
      "text/plain": [
       "<Figure size 1440x432 with 1 Axes>"
      ]
     },
     "metadata": {},
     "output_type": "display_data"
    }
   ],
   "source": [
    "import statistics \n",
    "\n",
    "def amd(s, k_start, k_end):\n",
    "    amd = dict()\n",
    "    for k in range(k_start,k_end):\n",
    "        amd[k] = statistics.mean( get_multiplicity_distribution(s,k).values() )\n",
    "    return amd\n",
    "\n",
    "k_start = 1\n",
    "k_end = 20\n",
    "amd = amd(mg37, k_start, k_end)\n",
    "\n",
    "#for k,v in amd.items():\n",
    "#    amd[k] = math.log(v)\n",
    "\n",
    "#k_start = 12\n",
    "\n",
    "import matplotlib.pyplot as plt\n",
    "bar_values = [v for k,v in sorted(amd.items())]\n",
    "plt.rcParams['figure.figsize'] = [20, 6]\n",
    "plt.bar(range(k_start,k_end), bar_values)\n",
    "plt.xticks(range(k_start,k_end), range(k_start,k_end))\n",
    "plt.ylabel('Average multiplicity')\n",
    "plt.xlabel('k')\n",
    "plt.title('Average multiplicity distribution')\n",
    "plt.show()"
   ]
  },
  {
   "cell_type": "markdown",
   "metadata": {},
   "source": [
    "---\n",
    "## Empirical entropy distribution\n",
    "The empirical entropy distribution (EED) assigns to each word length $k$ the value of the k-entropy."
   ]
  },
  {
   "cell_type": "code",
   "execution_count": 21,
   "metadata": {},
   "outputs": [
    {
     "data": {
      "image/png": "[encoded data removed]",
      "text/plain": [
       "<Figure size 1440x432 with 1 Axes>"
      ]
     },
     "metadata": {},
     "output_type": "display_data"
    }
   ],
   "source": [
    "def eed(s, k_start, k_end):\n",
    "    eed = dict()\n",
    "    for k in range(k_start,k_end):\n",
    "        eed[k] = fast_k_entropy(s,k)\n",
    "    return eed\n",
    "\n",
    "k_start = 1\n",
    "k_end = 20\n",
    "eed = eed(mg37[:10000], k_start, k_end)\n",
    "\n",
    "#for k,v in amd.items():\n",
    "#    amd[k] = math.log(v)\n",
    "\n",
    "#k_start = 12\n",
    "\n",
    "import matplotlib.pyplot as plt\n",
    "bar_values = [v for k,v in sorted(eed.items())]\n",
    "plt.rcParams['figure.figsize'] = [20, 6]\n",
    "plt.bar(range(k_start,k_end), bar_values)\n",
    "plt.xticks(range(k_start,k_end), range(k_start,k_end))\n",
    "plt.ylabel('k-entropy')\n",
    "plt.xlabel('k')\n",
    "plt.title('Empirical entropy distribution')\n",
    "plt.show()"
   ]
  },
  {
   "cell_type": "markdown",
   "metadata": {},
   "source": [
    "---\n",
    "##  Word co-multiplicity distribution\n",
    "Given a value of $k$, the word multiplicity distribution (WMD) reports for each value of multiplicity the number of word having such multiplicity"
   ]
  },
  {
   "cell_type": "code",
   "execution_count": 24,
   "metadata": {},
   "outputs": [
    {
     "data": {
      "image/png": "[encoded data removed]",
      "text/plain": [
       "<Figure size 1440x432 with 1 Axes>"
      ]
     },
     "metadata": {},
     "output_type": "display_data"
    }
   ],
   "source": [
    "def wcmd(s,k):\n",
    "    distr = dict()\n",
    "    mdistr = get_multiplicity_distribution(s,k)\n",
    "    for m in mdistr.values():\n",
    "        distr[m]= distr.get(m,0) + 1\n",
    "    return distr\n",
    "\n",
    "k = 6\n",
    "wcmd = wcmd(mg37[:100000],k)\n",
    "# add missing multiplicity values\n",
    "for i in range(1,max(wcmd.keys())):\n",
    "    wcmd[i] = wmd.get(i,0) + 0\n",
    "\n",
    "import matplotlib.pyplot as plt\n",
    "bar_values = [v for k,v in sorted(wcmd.items())]\n",
    "plt.rcParams['figure.figsize'] = [20, 6]\n",
    "plt.bar(sorted(wmd.keys()), bar_values, width=1.0)\n",
    "plt.ylabel('Number of words')\n",
    "plt.xlabel('Multiplicity')\n",
    "plt.title('Word co-multiplicity distribution')\n",
    "plt.show()"
   ]
  },
  {
   "cell_type": "markdown",
   "metadata": {},
   "source": [
    "---\n",
    "# Recurrence patterns\n",
    "Given a word $w$, the recurrence distance distribution (RDD) informs about the distances at which $w$ recurrs in a reference string $s$.\n",
    "A recurrence distance is the distance between two consecutive occurrences of $w$. The RDD distribution reports how many times two consecutive occurrences recurr at a given distance. "
   ]
  },
  {
   "cell_type": "code",
   "execution_count": 32,
   "metadata": {
    "scrolled": true
   },
   "outputs": [
    {
     "name": "stdout",
     "output_type": "stream",
     "text": [
      "agctaggaggatcgccagat\n",
      "\n",
      "RDD(a): {2: 1, 3: 2, 6: 1}\n",
      "RDD(t): {8: 1}\n",
      "RDD(c): {1: 1, 2: 1}\n",
      "RDD(g): {1: 2, 2: 1, 4: 2}\n"
     ]
    }
   ],
   "source": [
    "def RDD(s,w):\n",
    "    \"\"\"\n",
    "        Extract the recurrence distance ditribution (RDD) of the word w in s.\n",
    "        Given the starting postions of two occurences of w, p1 and p2, the reucrrence distance is calculated as\n",
    "        p1 - p2\n",
    "        such that consecutive occurrences are at distance 1.\n",
    "        ----\n",
    "        Parameters:\n",
    "            s (str) : the reference string\n",
    "            w (str) : the searched substring\n",
    "        ----\n",
    "        Returns:\n",
    "            dict[int,int] : a dictionary mapping recurrence distances to the number of times they occur\n",
    "    \"\"\"\n",
    "    pos = sorted(get_positions(s,w))\n",
    "    rdd = dict()\n",
    "    for i in range(2,len(pos)):\n",
    "        l = pos[i] - pos[i-1] \n",
    "        rdd[l] = rdd.get(l,0) + 1\n",
    "    return rdd\n",
    "\n",
    "print(s+'\\n')\n",
    "print('RDD(a):', RDD(s,'a'))\n",
    "print('RDD(t):',RDD(s,'t'))\n",
    "print('RDD(c):',RDD(s,'c'))\n",
    "print('RDD(g):',RDD(s,'g'))"
   ]
  },
  {
   "cell_type": "markdown",
   "metadata": {},
   "source": [
    "<br>\n",
    "<br>\n",
    "In real sequences, RDD distributions are usually defined on several values of recurrence distance. Thus, a simple printing results in a too much verbose output. The module `matlibplot` provide several functionalities for plotting charts in python. In this case, a bar plot is used to visualize the content of a RDD distribution.\n",
    "<br>\n",
    "If a recurrence distance between the minimum and the maximum retrieved values is missing, it is preferable to add such information by adding to the RDD a value equal to zero for the corresponding distances. In this way, the plot is more readable since the values on the x-axis are contiguous and no hidden gaps are produced."
   ]
  },
  {
   "cell_type": "code",
   "execution_count": 33,
   "metadata": {},
   "outputs": [
    {
     "data": {
      "image/png": "[encoded data removed]",
      "text/plain": [
       "<Figure size 1440x432 with 1 Axes>"
      ]
     },
     "metadata": {},
     "output_type": "display_data"
    }
   ],
   "source": [
    "w = 'CG'\n",
    "rdd = RDD(mg37,w)\n",
    "\n",
    "def plot_RDD(rdd, title):\n",
    "    # se a value equal to zero for the missing recurrence distances\n",
    "    for d in range(0,max(rdd.keys())):\n",
    "        rdd[d] = rdd.get(d,0) + 0\n",
    "        \n",
    "    # module can be imported by uring aliases to refer them\n",
    "    import matplotlib.pyplot as plt \n",
    "    \n",
    "    # set the figure size\n",
    "    plt.rcParams['figure.figsize'] = [20, 6]\n",
    "    # assign height of bars\n",
    "    bar_values = [v for k,v in sorted(rdd.items())]\n",
    "    # plot with specific values on the x-axis that are associated to the height\n",
    "    plt.bar(sorted(rdd.keys()), bar_values, width=1.0)\n",
    "    # set the label on the y-axis\n",
    "    plt.ylabel('Number of pairs') \n",
    "    # set the label on the x-axis\n",
    "    plt.xlabel('Recurrence distance')\n",
    "    # set a title for the chart\n",
    "    plt.title(title)\n",
    "    # plot the chart\n",
    "    plt.show()\n",
    "    \n",
    "plot_RDD(rdd, 'Recurrence distance distribution of '+ w)"
   ]
  },
  {
   "cell_type": "code",
   "execution_count": 34,
   "metadata": {},
   "outputs": [
    {
     "data": {
      "image/png": "[encoded data removed]",
      "text/plain": [
       "<Figure size 1440x432 with 1 Axes>"
      ]
     },
     "metadata": {},
     "output_type": "display_data"
    }
   ],
   "source": [
    "rdd = RDD(mg37,'AC')\n",
    "plot_RDD(rdd, 'Recurrence distance distribution of AC')"
   ]
  },
  {
   "cell_type": "markdown",
   "metadata": {},
   "source": [
    "---\n",
    "## Average recurrence distance distribution"
   ]
  },
  {
   "cell_type": "code",
   "execution_count": 36,
   "metadata": {
    "scrolled": true
   },
   "outputs": [
    {
     "data": {
      "image/png": "[encoded data removed]",
      "text/plain": [
       "<Figure size 1440x432 with 1 Axes>"
      ]
     },
     "metadata": {},
     "output_type": "display_data"
    }
   ],
   "source": [
    "def aRDD(s,k):\n",
    "    ardd = dict()\n",
    "    kmers = get_kmers(s,k)\n",
    "    for kmer in kmers:\n",
    "        rdd = RDD(s,kmer)\n",
    "        for distance,value in rdd.items():\n",
    "            ardd[distance] = ardd.get(distance,0) + value\n",
    "    for d,v in ardd.items():\n",
    "        ardd[d] = ardd[d] / len(kmers)\n",
    "    return ardd\n",
    "\n",
    "k = 2\n",
    "ardd = aRDD(mg37,k)\n",
    "\n",
    "plot_RDD(ardd, 'Average recurrence distance distribution for k '+ str(k))"
   ]
  },
  {
   "cell_type": "code",
   "execution_count": 38,
   "metadata": {},
   "outputs": [
    {
     "data": {
      "image/png": "[encoded data removed]",
      "text/plain": [
       "<Figure size 1440x432 with 1 Axes>"
      ]
     },
     "metadata": {},
     "output_type": "display_data"
    }
   ],
   "source": [
    "nardd = dict()\n",
    "for d,v in ardd.items():\n",
    "    if d <  60:\n",
    "        nardd[d] = v\n",
    "ardd = nardd\n",
    "\n",
    "plot_RDD(ardd, 'Average recurrence distance distribution for k '+ str(k))"
   ]
  },
  {
   "cell_type": "markdown",
   "metadata": {},
   "source": [
    "---\n",
    "## Reading GFF3 files"
   ]
  },
  {
   "cell_type": "code",
   "execution_count": 71,
   "metadata": {},
   "outputs": [
    {
     "name": "stdout",
     "output_type": "stream",
     "text": [
      "sequence coverage 0.9502547941993807\n",
      "580076 28856 551220\n"
     ]
    }
   ],
   "source": [
    "ifile = 'mycoplasma_genitalium_G37.fna'\n",
    "mg37 = ''\n",
    "for line in open(ifile, 'r'):\n",
    "    if line.strip()[0] != '>':\n",
    "        mg37 += line.strip()\n",
    "\n",
    "coverage = [0 for i in range(len(mg37))]\n",
    "        \n",
    "ifile = 'mycoplasma_genitalium_G37.gff3'\n",
    "for line in open(ifile, 'r'):\n",
    "    if line[0] != \"#\":\n",
    "        cc = line.split('\\t')\n",
    "        if len(cc) >= 6:\n",
    "            if (cc[2] == 'gene'):# and (cc[6] == '+'):\n",
    "                start = int(cc[3])\n",
    "                end = int(cc[4])\n",
    "                for i in range(start, end):\n",
    "                    coverage[i] += 1\n",
    "\n",
    "print('sequence coverage',   (len(coverage) - coverage.count(0)) / len(coverage))\n",
    "\n",
    "ncseq = ''.join([ mg37[i] for i in range(len(mg37)) if coverage[i] == 0 ])\n",
    "\n",
    "cseq = ''.join([ mg37[i] for i in range(len(mg37)) if coverage[i] > 0 ])\n",
    "\n",
    "print(len(mg37),len(ncseq), len(cseq))"
   ]
  },
  {
   "cell_type": "markdown",
   "metadata": {},
   "source": [
    "---\n",
    "## Differences between coding and non-coding parts"
   ]
  },
  {
   "cell_type": "code",
   "execution_count": 89,
   "metadata": {},
   "outputs": [
    {
     "data": {
      "image/png": "[encoded data removed]",
      "text/plain": [
       "<Figure size 1440x432 with 1 Axes>"
      ]
     },
     "metadata": {},
     "output_type": "display_data"
    }
   ],
   "source": [
    "k = 2\n",
    "ardd = aRDD(mg37,k)\n",
    "\n",
    "nardd = dict()\n",
    "for d,v in ardd.items():\n",
    "    if d <  100:\n",
    "        nardd[d] = v\n",
    "ardd = nardd\n",
    "\n",
    "plot_RDD(ardd, 'Average recurrence distance distribution for k '+ str(k))"
   ]
  },
  {
   "cell_type": "code",
   "execution_count": 90,
   "metadata": {},
   "outputs": [
    {
     "data": {
      "image/png": "[encoded data removed]",
      "text/plain": [
       "<Figure size 1440x432 with 1 Axes>"
      ]
     },
     "metadata": {},
     "output_type": "display_data"
    }
   ],
   "source": [
    "k = 2\n",
    "ardd = aRDD(ncseq,k)\n",
    "\n",
    "nardd = dict()\n",
    "for d,v in ardd.items():\n",
    "    if d < 100:\n",
    "        nardd[d] = v\n",
    "ardd = nardd\n",
    "\n",
    "plot_RDD(ardd, 'Average recurrence distance distribution for k '+ str(k))"
   ]
  },
  {
   "cell_type": "code",
   "execution_count": 91,
   "metadata": {},
   "outputs": [
    {
     "data": {
      "image/png": "[encoded data removed]",
      "text/plain": [
       "<Figure size 1440x432 with 1 Axes>"
      ]
     },
     "metadata": {},
     "output_type": "display_data"
    }
   ],
   "source": [
    "k = 2\n",
    "ardd = aRDD(cseq,k)\n",
    "\n",
    "nardd = dict()\n",
    "for d,v in ardd.items():\n",
    "    if d < 100:\n",
    "        nardd[d] = v\n",
    "ardd = nardd\n",
    "\n",
    "plot_RDD(ardd, 'Average recurrence distance distribution for k '+ str(k))"
   ]
  },
  {
   "cell_type": "code",
   "execution_count": null,
   "metadata": {},
   "outputs": [],
   "source": []
  }
 ],
 "metadata": {
  "kernelspec": {
   "display_name": "Python 3",
   "language": "python",
   "name": "python3"
  },
  "language_info": {
   "codemirror_mode": {
    "name": "ipython",
    "version": 3
   },
   "file_extension": ".py",
   "mimetype": "text/x-python",
   "name": "python",
   "nbconvert_exporter": "python",
   "pygments_lexer": "ipython3",
   "version": "3.5.2"
  },
  "varInspector": {
   "cols": {
    "lenName": 16,
    "lenType": 16,
    "lenVar": 40
   },
   "kernels_config": {
    "python": {
     "delete_cmd_postfix": "",
     "delete_cmd_prefix": "del ",
     "library": "var_list.py",
     "varRefreshCmd": "print(var_dic_list())"
    },
    "r": {
     "delete_cmd_postfix": ") ",
     "delete_cmd_prefix": "rm(",
     "library": "var_list.r",
     "varRefreshCmd": "cat(var_dic_list()) "
    }
   },
   "types_to_exclude": [
    "module",
    "function",
    "builtin_function_or_method",
    "instance",
    "_Feature"
   ],
   "window_display": false
  }
 },
 "nbformat": 4,
 "nbformat_minor": 2
}
