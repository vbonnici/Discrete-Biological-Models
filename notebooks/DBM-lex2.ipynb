{
 "cells": [
  {
   "cell_type": "markdown",
   "metadata": {},
   "source": [
    "# Recall"
   ]
  },
  {
   "cell_type": "code",
   "execution_count": 25,
   "metadata": {},
   "outputs": [],
   "source": [
    "s = 'agctaggaggatcgccagat'\n",
    "\n",
    "def get_kmers(s, k):\n",
    "    \"\"\" This function return the set of k-mers that occur in a given string s\"\"\"\n",
    "    kmers = set()\n",
    "    for i in range(len(s) - k +1):\n",
    "        kmers.add(s[i:i+k])\n",
    "    return kmers"
   ]
  },
  {
   "cell_type": "markdown",
   "metadata": {},
   "source": [
    "---"
   ]
  },
  {
   "cell_type": "markdown",
   "metadata": {},
   "source": [
    "# Word multiplicity\n",
    "\n",
    "In what follows, a function to count the number of characters `c` within a string $s$ is given. The function scans every position of $s$ and update the counter in case a `c` symbols occurs in a position.\n",
    "<br>\n",
    "The procedure equals the built-in `count` function defined for python strings."
   ]
  },
  {
   "cell_type": "code",
   "execution_count": 6,
   "metadata": {},
   "outputs": [
    {
     "name": "stdout",
     "output_type": "stream",
     "text": [
      "agctaggaggatcgccagat\n",
      "4\n",
      "4\n"
     ]
    }
   ],
   "source": [
    "def count_C(s):\n",
    "    count_c = 0 \n",
    "    for a in s:\n",
    "        if a == 'c':\n",
    "            count_c += 1\n",
    "    return count_c\n",
    "\n",
    "nof_c = count_C(s)\n",
    "\n",
    "print(s)\n",
    "print(nof_c)\n",
    "print(s.count('c'))"
   ]
  },
  {
   "cell_type": "markdown",
   "metadata": {},
   "source": [
    "<br>\n",
    "Python functions can return multiple values. For example the following function counts the number of `c` and `g`, and return the two separated values. "
   ]
  },
  {
   "cell_type": "code",
   "execution_count": 7,
   "metadata": {},
   "outputs": [
    {
     "name": "stdout",
     "output_type": "stream",
     "text": [
      "agctaggaggatcgccagat\n",
      "4 7\n",
      "4 7\n"
     ]
    }
   ],
   "source": [
    "def count_CG(s):\n",
    "    \"\"\"Count the number of c and g in a given string and return the countings\n",
    "    --------\n",
    "    Parameters:\n",
    "        s (str) : the input string\n",
    "    --------\n",
    "    Returns:\n",
    "        int : the count of c\n",
    "        int : the count of g\n",
    "    \"\"\"\n",
    "    count_c, count_g = 0,0\n",
    "    for a in s:\n",
    "        if a == 'c':\n",
    "            count_c += 1\n",
    "        elif a == 'g':\n",
    "            count_g += 1\n",
    "    return count_c, count_g \n",
    "\n",
    "nof_c, nof_g = count_CG(s)\n",
    "\n",
    "print(s)\n",
    "print(nof_c, nof_g)\n",
    "print(s.count('c'), s.count('g'))"
   ]
  },
  {
   "cell_type": "markdown",
   "metadata": {},
   "source": [
    "<br>\n",
    "Functions receives multiple input parameters and return multiple values, and python is not a typed programming language. The understanding of the correct value to be pass to the function, as well as the meaning and the type of its return values may result difficult for the final developer who wants to use the function. \n",
    "<br>\n",
    "Thus, documentation of the function plays a crucial role in the usability of python. The code shown above gives an example of out to document input parameters and return values of a function. \n",
    "<br>\n",
    "For what concerns input parameters, the name, the type and a brief description are provided.\n",
    "<br>\n",
    "Regarding return values, they do not have names thus the type and the description are given. However, the order in which they are return is crucial for they correct use."
   ]
  },
  {
   "cell_type": "code",
   "execution_count": 8,
   "metadata": {},
   "outputs": [
    {
     "name": "stdout",
     "output_type": "stream",
     "text": [
      "Help on function count_CG in module __main__:\n",
      "\n",
      "count_CG(s)\n",
      "    Count the number of c and g in a given string and return the countings\n",
      "    --------\n",
      "    Parameters:\n",
      "        s (str) : the input string\n",
      "    --------\n",
      "    Returns:\n",
      "        int : the count of c\n",
      "        int : the count of g\n",
      "\n"
     ]
    }
   ],
   "source": [
    "help(count_CG)"
   ]
  },
  {
   "cell_type": "markdown",
   "metadata": {},
   "source": [
    "<br>\n",
    "An examples of the practical use of the function is the calculation of the CG content of a string, that corresponds to the sum of the number of `c` and `g` characters divided by the total length of the string."
   ]
  },
  {
   "cell_type": "code",
   "execution_count": 9,
   "metadata": {},
   "outputs": [
    {
     "name": "stdout",
     "output_type": "stream",
     "text": [
      "the CG content of agctaggaggatcgccagat is 0.55\n",
      "11 of 20 positions\n"
     ]
    }
   ],
   "source": [
    "print(\"the CG content of \" + s + \" is \" + str((nof_c + nof_g)/len(s)) )\n",
    "print(str((nof_c + nof_g))+\" of \" +str(len(s)) +\" positions\")"
   ]
  },
  {
   "cell_type": "markdown",
   "metadata": {},
   "source": [
    "---\n",
    "## Counting words\n",
    "\n",
    "The previous example showed hot to count for specific single characters, however the counting of longer words (k-mers) is often wanted.\n",
    "<br>\n",
    "<br>\n",
    "The `count_occurrences` function counts the number of occurrences of a word $w$ in a string $s$. For each position of $s$ it verifies if an occurrence of $w$ starts form that position. The verification is made by comparing one by one the characters of $w$ with those occurring in the sibling positions of $s$.\n",
    "<br>\n",
    "<br>\n",
    "The built-in python library already provides a string function to count the occurrences of a substring. However, this exercise wants to emphasize the complexity of such a searching approach. It requires to nested for loops, which result in a time requirement that is of size $|s|$ times $|w|$.\n",
    "<br>\n",
    "<br>\n",
    "More in general, the reader is encouraged to understand the complexity of the built-in functions when they are used, because they can conceal an unexpected complexity in time or space. Conversely, the function given as example is the most trivial way to count for substring occurrences and more powerful methods exists which can be used by the library and that can increase the knowledge of a curious user. "
   ]
  },
  {
   "cell_type": "code",
   "execution_count": 10,
   "metadata": {},
   "outputs": [
    {
     "name": "stdout",
     "output_type": "stream",
     "text": [
      "3\n",
      "3\n"
     ]
    }
   ],
   "source": [
    "def count_occurrences(s,w):\n",
    "    \"\"\"\n",
    "        Count the number of occurences of w in s\n",
    "        --------\n",
    "        Parameters:\n",
    "            s (str)\n",
    "            w (str)\n",
    "    \"\"\"\n",
    "    count = 0\n",
    "    for i in range(len(s) -len(w) +1):\n",
    "        for j in range(len(w)):\n",
    "            if s[i+j] != w[j]:\n",
    "                break\n",
    "        else:\n",
    "            count += 1\n",
    "        #if s[i:i+len(w)] == w:\n",
    "        #    count += 1\n",
    "    return count\n",
    "\n",
    "print(count_occurrences(s,'ga'))\n",
    "print(s.count('ga'))"
   ]
  },
  {
   "cell_type": "markdown",
   "metadata": {},
   "source": [
    "<br>\n",
    "One a function to count the number of occurrences of a single word has been defined, the multiplicity of all k-mers occurring in a string can be done. The example uses the multiplicity information to inform about the repetitiveness of all 2-mers (and more in general k-mers) of the string $s$. The k-mer are distinguished in hapaxes and repeats, and repeates are further verified for the duplex nature (they occur only twice). "
   ]
  },
  {
   "cell_type": "code",
   "execution_count": 11,
   "metadata": {},
   "outputs": [
    {
     "name": "stdout",
     "output_type": "stream",
     "text": [
      "cc is an hapax\n",
      "gc is a repeat\n",
      "gc is a duplex\n",
      "ag is a repeat\n",
      "at is a repeat\n",
      "at is a duplex\n",
      "ca is an hapax\n",
      "tc is an hapax\n",
      "cg is an hapax\n",
      "ga is a repeat\n",
      "gg is a repeat\n",
      "gg is a duplex\n",
      "ta is an hapax\n",
      "ct is an hapax\n"
     ]
    }
   ],
   "source": [
    "k = 2\n",
    "kmers = get_kmers(s,k)\n",
    "for kmer in kmers:\n",
    "    m = count_occurrences(s,kmer)\n",
    "    if m == 1:\n",
    "        print(kmer + \" is an hapax\")\n",
    "    else:\n",
    "        print(kmer + \" is a repeat\")\n",
    "        if m == 2:\n",
    "            print(kmer + \" is a duplex\")"
   ]
  },
  {
   "cell_type": "markdown",
   "metadata": {},
   "source": [
    "<br>\n",
    "The procedure is modified such that the multiplicity information is not just printed, but words are bucket depending on their occurrence property. The operation is performed by representing buckets as sets. "
   ]
  },
  {
   "cell_type": "code",
   "execution_count": 12,
   "metadata": {},
   "outputs": [
    {
     "name": "stdout",
     "output_type": "stream",
     "text": [
      "hapaxes 6 ['ca', 'cc', 'cg', 'ct', 'ta', 'tc']\n",
      "repeats 5 ['ag', 'at', 'ga', 'gc', 'gg']\n",
      "duplexes 3 ['at', 'gc', 'gg']\n"
     ]
    }
   ],
   "source": [
    "k = 2\n",
    "kmers = get_kmers(s,k)\n",
    "\n",
    "hapaxes = set()\n",
    "repeats= set()\n",
    "duplexes = set()\n",
    "\n",
    "for kmer in kmers:\n",
    "    m = count_occurrences(s,kmer)\n",
    "    if m == 1:\n",
    "        hapaxes.add(kmer)\n",
    "    else:\n",
    "        repeats.add(kmer)\n",
    "        if m == 2:\n",
    "            duplexes.add(kmer)\n",
    "\n",
    "print('hapaxes', len(hapaxes), sorted(hapaxes))\n",
    "print('repeats', len(repeats), sorted(repeats))\n",
    "print('duplexes', len(duplexes), sorted(duplexes))"
   ]
  },
  {
   "cell_type": "markdown",
   "metadata": {},
   "source": [
    "By definition, the set of duplexes is contained within the complete set of repeats. A way to retrieve the set of repeats that occur more than twice is to use the built-in python set-theoretic operations, in this case the set difference denoted by the symbol `-`."
   ]
  },
  {
   "cell_type": "code",
   "execution_count": 13,
   "metadata": {},
   "outputs": [
    {
     "name": "stdout",
     "output_type": "stream",
     "text": [
      "repeats not duplexes 2 ['ag', 'ga']\n"
     ]
    }
   ],
   "source": [
    "nodupl = repeats - duplexes\n",
    "print(\"repeats not duplexes\", len(nodupl), sorted(nodupl))"
   ]
  },
  {
   "cell_type": "markdown",
   "metadata": {},
   "source": [
    "---\n",
    "# ! WARNING !\n",
    "The built-it method `count` does not count overlapping occrrences !!!"
   ]
  },
  {
   "cell_type": "code",
   "execution_count": 1,
   "metadata": {},
   "outputs": [
    {
     "ename": "NameError",
     "evalue": "name 'count_occurrences' is not defined",
     "output_type": "error",
     "traceback": [
      "\u001b[0;31m---------------------------------------------------------------------------\u001b[0m",
      "\u001b[0;31mNameError\u001b[0m                                 Traceback (most recent call last)",
      "\u001b[0;32m<ipython-input-1-adaa38ed3b41>\u001b[0m in \u001b[0;36m<module>\u001b[0;34m()\u001b[0m\n\u001b[1;32m      1\u001b[0m \u001b[0ms\u001b[0m \u001b[0;34m=\u001b[0m \u001b[0;34m'aaaaaaa'\u001b[0m\u001b[0;34m\u001b[0m\u001b[0m\n\u001b[0;32m----> 2\u001b[0;31m \u001b[0mcount_occurrences\u001b[0m\u001b[0;34m(\u001b[0m\u001b[0ms\u001b[0m\u001b[0;34m,\u001b[0m\u001b[0;34m'aa'\u001b[0m\u001b[0;34m)\u001b[0m\u001b[0;34m\u001b[0m\u001b[0m\n\u001b[0m\u001b[1;32m      3\u001b[0m \u001b[0ms\u001b[0m\u001b[0;34m.\u001b[0m\u001b[0mcount\u001b[0m\u001b[0;34m(\u001b[0m\u001b[0;34m'aa'\u001b[0m\u001b[0;34m)\u001b[0m\u001b[0;34m\u001b[0m\u001b[0m\n",
      "\u001b[0;31mNameError\u001b[0m: name 'count_occurrences' is not defined"
     ]
    }
   ],
   "source": [
    "s = 'aaaaaaa'\n",
    "count_occurrences(s,'aa')\n",
    "s.count('aa')"
   ]
  },
  {
   "cell_type": "markdown",
   "metadata": {},
   "source": [
    "---"
   ]
  },
  {
   "cell_type": "markdown",
   "metadata": {},
   "source": [
    "## Searching for nullomers"
   ]
  },
  {
   "cell_type": "markdown",
   "metadata": {},
   "source": [
    "Nullomers are k-mers belonging to the complete set of word of length $k$, that can be built of a specific alphabet, but that do not appear in a given string. Thus, to search for nullomer, firstly a way to generate the complete set of words is necessary. Then, the presence of the k-mers can be verified. \n",
    "<br>\n",
    "The complete set can be computed via a recursive function. It extends word of length $x$ to length $x+1$ in a combinatorial way by elonging them with all the symbols of the alphabet. This means that, given a word $\\alpha$, it generates $\\{\\alpha A, \\alpha C, \\alpha G,\\alpha T\\}$, then it recursively extends such elongations until words of length $k$ are formed. The initial string is set to be the empty string. The base case, namely the stop condition of the recursion, is reached when the formed word has length equal to $k$."
   ]
  },
  {
   "cell_type": "code",
   "execution_count": 14,
   "metadata": {},
   "outputs": [
    {
     "name": "stdout",
     "output_type": "stream",
     "text": [
      "a\n",
      "c\n",
      "g\n",
      "t\n"
     ]
    }
   ],
   "source": [
    "def list_words(prefix, k, alphabet):\n",
    "    if len(prefix) == k:\n",
    "        print(prefix)\n",
    "    else:\n",
    "        for a in alphabet:\n",
    "            list_words(prefix + a, k, alphabet)\n",
    "\n",
    "nuc_alphabet = ['a','c','g','t']\n",
    "\n",
    "list_words('', 1, nuc_alphabet)"
   ]
  },
  {
   "cell_type": "code",
   "execution_count": 15,
   "metadata": {},
   "outputs": [
    {
     "name": "stdout",
     "output_type": "stream",
     "text": [
      "aa\n",
      "ac\n",
      "ag\n",
      "at\n",
      "ca\n",
      "cc\n",
      "cg\n",
      "ct\n",
      "ga\n",
      "gc\n",
      "gg\n",
      "gt\n",
      "ta\n",
      "tc\n",
      "tg\n",
      "tt\n"
     ]
    }
   ],
   "source": [
    "list_words('', 2, nuc_alphabet)"
   ]
  },
  {
   "cell_type": "markdown",
   "metadata": {},
   "source": [
    "The function is modified such that instead of just printing the k-mer, they are added to an output set. "
   ]
  },
  {
   "cell_type": "code",
   "execution_count": 16,
   "metadata": {},
   "outputs": [
    {
     "name": "stdout",
     "output_type": "stream",
     "text": [
      "{'cc', 'gc', 'gt', 'tg', 'ct', 'ag', 'ac', 'at', 'ca', 'cg', 'tc', 'tt', 'ga', 'gg', 'ta', 'aa'}\n"
     ]
    }
   ],
   "source": [
    "def list_words_2(prefix, k, nuc_alphabet, words):\n",
    "    if len(prefix) == k:\n",
    "        words.add(prefix)\n",
    "    else:\n",
    "        for a in nuc_alphabet:\n",
    "            list_words_2(prefix + a, k, nuc_alphabet, words)\n",
    "            \n",
    "kmers = set()\n",
    "list_words_2('',2, nuc_alphabet, kmers)\n",
    "print(kmers)"
   ]
  },
  {
   "cell_type": "markdown",
   "metadata": {},
   "source": [
    "<br>\n",
    "Once a way to enumerate all the possible k-mers has made, it can be used to identify the set of nullomers of a string. For each k-mer, if its multiplicity within the string is equal to zero it means that it is not occurring in the string, thus it is a nullomer."
   ]
  },
  {
   "cell_type": "code",
   "execution_count": 18,
   "metadata": {},
   "outputs": [
    {
     "name": "stdout",
     "output_type": "stream",
     "text": [
      "agctaggaggatcgccagat\n",
      "{'ac', 'tg', 'tt', 'gt', 'aa'}\n"
     ]
    }
   ],
   "source": [
    "k = 2\n",
    "kmers = set()\n",
    "list_words_2('',k,nuc_alphabet,kmers)\n",
    "\n",
    "nullomers = set()\n",
    "for kmer in kmers:\n",
    "    if count_occurrences(s,kmer) == 0:\n",
    "        nullomers.add(kmer)\n",
    "        \n",
    "print(s)\n",
    "print(nullomers)"
   ]
  },
  {
   "cell_type": "markdown",
   "metadata": {},
   "source": [
    "<br>\n",
    "The mere presence of a single occurrence can be searched for, alternatively to the counting for all the occurrences of a k-mer. If on average k-mer appear more than twice, the just-presence method reduce the time requirement of the procedure since it stops to the first occurrence and does not search for the others. \n",
    "<br>\n",
    "<br>\n",
    "Python provides a built-in operator, that is inclusion operator `in`, to check for presence of an elements within a set. The operator can also be combined with the logical `not` operator."
   ]
  },
  {
   "cell_type": "code",
   "execution_count": 19,
   "metadata": {},
   "outputs": [
    {
     "name": "stdout",
     "output_type": "stream",
     "text": [
      "True\n",
      "False\n"
     ]
    }
   ],
   "source": [
    "A = {'a','b','c'}\n",
    "print('a' in A)\n",
    "print('a' not in A)"
   ]
  },
  {
   "cell_type": "markdown",
   "metadata": {},
   "source": [
    "When the `in` operator is applied to strings, it searches whenever a string is contained into another."
   ]
  },
  {
   "cell_type": "code",
   "execution_count": 26,
   "metadata": {},
   "outputs": [
    {
     "name": "stdout",
     "output_type": "stream",
     "text": [
      "agctaggaggatcgccagat\n",
      "nullomers: {'ac', 'tg', 'tt', 'gt', 'aa'}\n"
     ]
    }
   ],
   "source": [
    "k = 2\n",
    "kmers = set()\n",
    "list_words_2('',k,nuc_alphabet,kmers)\n",
    "\n",
    "nullomers = set()\n",
    "for kmer in kmers:\n",
    "    if kmer not in s:\n",
    "        nullomers.add(kmer)\n",
    "        \n",
    "print(s)\n",
    "print('nullomers:', nullomers)"
   ]
  },
  {
   "cell_type": "markdown",
   "metadata": {},
   "source": [
    "---\n",
    "## Itertools\n",
    "\n",
    "Python provides a set of built-in functions to built combinatorial elements. The library is called `itertool` and its documentation is given at https://docs.python.org/3/library/itertools.html .\n",
    "<br>\n",
    "<br>\n",
    "It can be used to perform Cartesian products."
   ]
  },
  {
   "cell_type": "code",
   "execution_count": 21,
   "metadata": {},
   "outputs": [
    {
     "name": "stdout",
     "output_type": "stream",
     "text": [
      "('a', 'a')\n",
      "('a', 'c')\n",
      "('a', 'g')\n",
      "('a', 't')\n",
      "('c', 'a')\n",
      "('c', 'c')\n",
      "('c', 'g')\n",
      "('c', 't')\n",
      "('g', 'a')\n",
      "('g', 'c')\n",
      "('g', 'g')\n",
      "('g', 't')\n",
      "('t', 'a')\n",
      "('t', 'c')\n",
      "('t', 'g')\n",
      "('t', 't')\n"
     ]
    }
   ],
   "source": [
    "import itertools \n",
    "\n",
    "alphabet = 'acgt'\n",
    "\n",
    "itertools.product(alphabet, repeat = 2) # cartesian product, equivalent to a nested for-loop\n",
    "\n",
    "for i in itertools.product(alphabet, repeat = 2):\n",
    "    print(i)"
   ]
  },
  {
   "cell_type": "markdown",
   "metadata": {},
   "source": [
    "That can be converted to combinatorial strings, such as the ones computed in the previous examples. "
   ]
  },
  {
   "cell_type": "code",
   "execution_count": 22,
   "metadata": {
    "scrolled": true
   },
   "outputs": [
    {
     "name": "stdout",
     "output_type": "stream",
     "text": [
      "aa\n",
      "ac\n",
      "ag\n",
      "at\n",
      "ca\n",
      "cc\n",
      "cg\n",
      "ct\n",
      "ga\n",
      "gc\n",
      "gg\n",
      "gt\n",
      "ta\n",
      "tc\n",
      "tg\n",
      "tt\n"
     ]
    }
   ],
   "source": [
    "for i in itertools.product(alphabet, repeat = 2):\n",
    "    print( ''.join(i) )"
   ]
  },
  {
   "cell_type": "markdown",
   "metadata": {},
   "source": [
    "And many other combinatorial operations can be performed."
   ]
  },
  {
   "cell_type": "code",
   "execution_count": 23,
   "metadata": {
    "scrolled": true
   },
   "outputs": [
    {
     "name": "stdout",
     "output_type": "stream",
     "text": [
      "aa ac ag at ca cc cg ct ga gc gg gt ta tc tg tt \n",
      "ac ag at ca cg ct ga gc gt ta tc tg \n",
      "ac ag at cg ct gt \n",
      "aa ac ag at cc cg ct gg gt tt \n"
     ]
    }
   ],
   "source": [
    "\n",
    "for i in itertools.product(alphabet, repeat = 2):\n",
    "    print(''.join(i), end=' ')\n",
    "print()\n",
    "\n",
    "# r-length tuples, all possible orderings, no repeated elements\n",
    "for i in itertools.permutations(alphabet, 2):\n",
    "    print(''.join(i), end=' ')\n",
    "print()\n",
    "\n",
    "# r-length tuples, in sorted order, no repeated elements\n",
    "for i in itertools.combinations(alphabet, 2):\n",
    "    print(''.join(i), end=' ')\n",
    "print()\n",
    "\n",
    "# r-length tuples, in sorted order, with repeated elements\n",
    "for i in itertools.combinations_with_replacement(alphabet,2):\n",
    "    print(''.join(i), end=' ')\n",
    "print()"
   ]
  },
  {
   "cell_type": "code",
   "execution_count": null,
   "metadata": {},
   "outputs": [],
   "source": []
  }
 ],
 "metadata": {
  "kernelspec": {
   "display_name": "Python 3",
   "language": "python",
   "name": "python3"
  },
  "language_info": {
   "codemirror_mode": {
    "name": "ipython",
    "version": 3
   },
   "file_extension": ".py",
   "mimetype": "text/x-python",
   "name": "python",
   "nbconvert_exporter": "python",
   "pygments_lexer": "ipython3",
   "version": "3.5.2"
  },
  "varInspector": {
   "cols": {
    "lenName": 16,
    "lenType": 16,
    "lenVar": 40
   },
   "kernels_config": {
    "python": {
     "delete_cmd_postfix": "",
     "delete_cmd_prefix": "del ",
     "library": "var_list.py",
     "varRefreshCmd": "print(var_dic_list())"
    },
    "r": {
     "delete_cmd_postfix": ") ",
     "delete_cmd_prefix": "rm(",
     "library": "var_list.r",
     "varRefreshCmd": "cat(var_dic_list()) "
    }
   },
   "types_to_exclude": [
    "module",
    "function",
    "builtin_function_or_method",
    "instance",
    "_Feature"
   ],
   "window_display": false
  }
 },
 "nbformat": 4,
 "nbformat_minor": 2
}
